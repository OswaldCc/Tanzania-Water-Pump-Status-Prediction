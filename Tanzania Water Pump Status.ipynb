{
 "cells": [
  {
   "cell_type": "markdown",
   "metadata": {},
   "source": [
    "# 1. Introduction"
   ]
  },
  {
   "cell_type": "markdown",
   "metadata": {},
   "source": [
    "## Business Understanding"
   ]
  },
  {
   "cell_type": "markdown",
   "metadata": {},
   "source": [
    "Water is critical to the health of people. In Tanzania, there's a population of 59 million. Four million of these people lack access to an improved water source and 29 million lack access to improved sanitation. As most of the country is arid or semi-arid, Tanzania's ground water(wells/waterpoints) is the main source of water for the people.\n",
    "\n",
    "There are many waterpoints already established in the country. An NGO focused on improving Tanzania's water situation would like to be able to predict functional waterpoints, those that are functional and neeed repair and those that are completely non-functional. This would go a long way in trying to maintain the already existing water infrastructure to allow for better water access across the country improving people's quality of life."
   ]
  },
  {
   "cell_type": "markdown",
   "metadata": {},
   "source": [
    "## Data understanding"
   ]
  },
  {
   "cell_type": "markdown",
   "metadata": {},
   "source": [
    "The data used in this analysis is downloaded from [DrivenData](https://www.drivendata.org/competitions/7/pump-it-up-data-mining-the-water-table/data/).The data comes from the Taarifa waterpoints dashboard, which aggregates data from the Tanzania Ministry of Water. It has the following information about the waterpoints:\n",
    "\n",
    "- amount_tsh - Total static head (amount water available to waterpoint)\n",
    "- date_recorded - The date the row was entered\n",
    "- funder - Who funded the well\n",
    "- gps_height - Altitude of the well\n",
    "- installer - Organization that installed the well\n",
    "- longitude - GPS coordinate\n",
    "- latitude - GPS coordinate\n",
    "- wpt_name - Name of the waterpoint if there is one\n",
    "- num_private -  Private use or not\n",
    "- basin - Geographic water basin\n",
    "- subvillage - Geographic location\n",
    "- region - Geographic location\n",
    "- region_code - Geographic location (coded)\n",
    "- district_code - Geographic location (coded)\n",
    "- lga - Geographic location\n",
    "- ward - Geographic location\n",
    "- population - Population around the well\n",
    "- public_meeting - True/False\n",
    "- recorded_by - Group entering this row of data\n",
    "- scheme_management - Who operates the waterpoint\n",
    "- scheme_name - Who operates the waterpoint\n",
    "- permit - If the waterpoint is permitted\n",
    "- construction_year - Year the waterpoint was constructed\n",
    "- extraction_type - The kind of extraction the waterpoint uses\n",
    "- extraction_type_group - The kind of extraction the waterpoint uses\n",
    "- extraction_type_class - The kind of extraction the waterpoint uses\n",
    "- management - How the waterpoint is managed\n",
    "- management_group - How the waterpoint is managed\n",
    "- payment - What the water costs\n",
    "- payment_type - What the water costs\n",
    "- water_quality - The quality of the water\n",
    "- quality_group - The quality of the water\n",
    "- quantity - The quantity of water\n",
    "- quantity_group - The quantity of water\n",
    "- source - The source of the water\n",
    "- source_type - The source of the water\n",
    "- source_class - The source of the water\n",
    "- waterpoint_type - The kind of waterpoint\n",
    "- waterpoint_type_group - The kind of waterpoint"
   ]
  },
  {
   "cell_type": "markdown",
   "metadata": {},
   "source": [
    "# 2. Data Cleaning"
   ]
  },
  {
   "cell_type": "markdown",
   "metadata": {},
   "source": [
    "## Loading Data"
   ]
  },
  {
   "cell_type": "code",
   "execution_count": 1,
   "metadata": {},
   "outputs": [],
   "source": [
    "# Importing libraries \n",
    "import pandas as pd\n",
    "import numpy as np\n",
    "\n",
    "from matplotlib import pyplot as plt\n",
    "import seaborn as sns\n",
    "%matplotlib inline\n",
    "import warnings\n",
    "warnings.filterwarnings('ignore')"
   ]
  },
  {
   "cell_type": "code",
   "execution_count": 2,
   "metadata": {},
   "outputs": [],
   "source": [
    "#Loading the Data\n",
    "\n",
    "training_data = pd.read_csv('Data/Training set values.csv')\n",
    "training_data_labels = pd.read_csv('Data/Training set labels.csv')"
   ]
  },
  {
   "cell_type": "code",
   "execution_count": 3,
   "metadata": {},
   "outputs": [
    {
     "name": "stdout",
     "output_type": "stream",
     "text": [
      "Rows: 59400 Columns:40 \n"
     ]
    }
   ],
   "source": [
    "#Looking at the shape for training_data\n",
    "\n",
    "print(f'Rows: {training_data.shape[0]} Columns:{training_data.shape[1]} ')"
   ]
  },
  {
   "cell_type": "code",
   "execution_count": 4,
   "metadata": {},
   "outputs": [
    {
     "name": "stdout",
     "output_type": "stream",
     "text": [
      "Rows: 59400 Columns:2 \n"
     ]
    }
   ],
   "source": [
    "#Looking at the shape for training_data_labels\n",
    "print(f'Rows: {training_data_labels.shape[0]} Columns:{training_data_labels.shape[1]} ')"
   ]
  },
  {
   "cell_type": "code",
   "execution_count": 5,
   "metadata": {},
   "outputs": [],
   "source": [
    "#Merging the datasets on the common column id \n",
    "\n",
    "training_set = pd.merge(left = training_data, right = training_data_labels, on = 'id')"
   ]
  },
  {
   "cell_type": "code",
   "execution_count": 6,
   "metadata": {},
   "outputs": [
    {
     "data": {
      "text/html": [
       "<div>\n",
       "<style scoped>\n",
       "    .dataframe tbody tr th:only-of-type {\n",
       "        vertical-align: middle;\n",
       "    }\n",
       "\n",
       "    .dataframe tbody tr th {\n",
       "        vertical-align: top;\n",
       "    }\n",
       "\n",
       "    .dataframe thead th {\n",
       "        text-align: right;\n",
       "    }\n",
       "</style>\n",
       "<table border=\"1\" class=\"dataframe\">\n",
       "  <thead>\n",
       "    <tr style=\"text-align: right;\">\n",
       "      <th></th>\n",
       "      <th>id</th>\n",
       "      <th>amount_tsh</th>\n",
       "      <th>date_recorded</th>\n",
       "      <th>funder</th>\n",
       "      <th>gps_height</th>\n",
       "      <th>installer</th>\n",
       "      <th>longitude</th>\n",
       "      <th>latitude</th>\n",
       "      <th>wpt_name</th>\n",
       "      <th>num_private</th>\n",
       "      <th>...</th>\n",
       "      <th>water_quality</th>\n",
       "      <th>quality_group</th>\n",
       "      <th>quantity</th>\n",
       "      <th>quantity_group</th>\n",
       "      <th>source</th>\n",
       "      <th>source_type</th>\n",
       "      <th>source_class</th>\n",
       "      <th>waterpoint_type</th>\n",
       "      <th>waterpoint_type_group</th>\n",
       "      <th>status_group</th>\n",
       "    </tr>\n",
       "  </thead>\n",
       "  <tbody>\n",
       "    <tr>\n",
       "      <th>0</th>\n",
       "      <td>69572</td>\n",
       "      <td>6000.0</td>\n",
       "      <td>2011-03-14</td>\n",
       "      <td>Roman</td>\n",
       "      <td>1390</td>\n",
       "      <td>Roman</td>\n",
       "      <td>34.938093</td>\n",
       "      <td>-9.856322</td>\n",
       "      <td>none</td>\n",
       "      <td>0</td>\n",
       "      <td>...</td>\n",
       "      <td>soft</td>\n",
       "      <td>good</td>\n",
       "      <td>enough</td>\n",
       "      <td>enough</td>\n",
       "      <td>spring</td>\n",
       "      <td>spring</td>\n",
       "      <td>groundwater</td>\n",
       "      <td>communal standpipe</td>\n",
       "      <td>communal standpipe</td>\n",
       "      <td>functional</td>\n",
       "    </tr>\n",
       "    <tr>\n",
       "      <th>1</th>\n",
       "      <td>8776</td>\n",
       "      <td>0.0</td>\n",
       "      <td>2013-03-06</td>\n",
       "      <td>Grumeti</td>\n",
       "      <td>1399</td>\n",
       "      <td>GRUMETI</td>\n",
       "      <td>34.698766</td>\n",
       "      <td>-2.147466</td>\n",
       "      <td>Zahanati</td>\n",
       "      <td>0</td>\n",
       "      <td>...</td>\n",
       "      <td>soft</td>\n",
       "      <td>good</td>\n",
       "      <td>insufficient</td>\n",
       "      <td>insufficient</td>\n",
       "      <td>rainwater harvesting</td>\n",
       "      <td>rainwater harvesting</td>\n",
       "      <td>surface</td>\n",
       "      <td>communal standpipe</td>\n",
       "      <td>communal standpipe</td>\n",
       "      <td>functional</td>\n",
       "    </tr>\n",
       "    <tr>\n",
       "      <th>2</th>\n",
       "      <td>34310</td>\n",
       "      <td>25.0</td>\n",
       "      <td>2013-02-25</td>\n",
       "      <td>Lottery Club</td>\n",
       "      <td>686</td>\n",
       "      <td>World vision</td>\n",
       "      <td>37.460664</td>\n",
       "      <td>-3.821329</td>\n",
       "      <td>Kwa Mahundi</td>\n",
       "      <td>0</td>\n",
       "      <td>...</td>\n",
       "      <td>soft</td>\n",
       "      <td>good</td>\n",
       "      <td>enough</td>\n",
       "      <td>enough</td>\n",
       "      <td>dam</td>\n",
       "      <td>dam</td>\n",
       "      <td>surface</td>\n",
       "      <td>communal standpipe multiple</td>\n",
       "      <td>communal standpipe</td>\n",
       "      <td>functional</td>\n",
       "    </tr>\n",
       "    <tr>\n",
       "      <th>3</th>\n",
       "      <td>67743</td>\n",
       "      <td>0.0</td>\n",
       "      <td>2013-01-28</td>\n",
       "      <td>Unicef</td>\n",
       "      <td>263</td>\n",
       "      <td>UNICEF</td>\n",
       "      <td>38.486161</td>\n",
       "      <td>-11.155298</td>\n",
       "      <td>Zahanati Ya Nanyumbu</td>\n",
       "      <td>0</td>\n",
       "      <td>...</td>\n",
       "      <td>soft</td>\n",
       "      <td>good</td>\n",
       "      <td>dry</td>\n",
       "      <td>dry</td>\n",
       "      <td>machine dbh</td>\n",
       "      <td>borehole</td>\n",
       "      <td>groundwater</td>\n",
       "      <td>communal standpipe multiple</td>\n",
       "      <td>communal standpipe</td>\n",
       "      <td>non functional</td>\n",
       "    </tr>\n",
       "    <tr>\n",
       "      <th>4</th>\n",
       "      <td>19728</td>\n",
       "      <td>0.0</td>\n",
       "      <td>2011-07-13</td>\n",
       "      <td>Action In A</td>\n",
       "      <td>0</td>\n",
       "      <td>Artisan</td>\n",
       "      <td>31.130847</td>\n",
       "      <td>-1.825359</td>\n",
       "      <td>Shuleni</td>\n",
       "      <td>0</td>\n",
       "      <td>...</td>\n",
       "      <td>soft</td>\n",
       "      <td>good</td>\n",
       "      <td>seasonal</td>\n",
       "      <td>seasonal</td>\n",
       "      <td>rainwater harvesting</td>\n",
       "      <td>rainwater harvesting</td>\n",
       "      <td>surface</td>\n",
       "      <td>communal standpipe</td>\n",
       "      <td>communal standpipe</td>\n",
       "      <td>functional</td>\n",
       "    </tr>\n",
       "  </tbody>\n",
       "</table>\n",
       "<p>5 rows × 41 columns</p>\n",
       "</div>"
      ],
      "text/plain": [
       "      id  amount_tsh date_recorded        funder  gps_height     installer  \\\n",
       "0  69572      6000.0    2011-03-14         Roman        1390         Roman   \n",
       "1   8776         0.0    2013-03-06       Grumeti        1399       GRUMETI   \n",
       "2  34310        25.0    2013-02-25  Lottery Club         686  World vision   \n",
       "3  67743         0.0    2013-01-28        Unicef         263        UNICEF   \n",
       "4  19728         0.0    2011-07-13   Action In A           0       Artisan   \n",
       "\n",
       "   longitude   latitude              wpt_name  num_private  ... water_quality  \\\n",
       "0  34.938093  -9.856322                  none            0  ...          soft   \n",
       "1  34.698766  -2.147466              Zahanati            0  ...          soft   \n",
       "2  37.460664  -3.821329           Kwa Mahundi            0  ...          soft   \n",
       "3  38.486161 -11.155298  Zahanati Ya Nanyumbu            0  ...          soft   \n",
       "4  31.130847  -1.825359               Shuleni            0  ...          soft   \n",
       "\n",
       "  quality_group      quantity  quantity_group                source  \\\n",
       "0          good        enough          enough                spring   \n",
       "1          good  insufficient    insufficient  rainwater harvesting   \n",
       "2          good        enough          enough                   dam   \n",
       "3          good           dry             dry           machine dbh   \n",
       "4          good      seasonal        seasonal  rainwater harvesting   \n",
       "\n",
       "            source_type source_class              waterpoint_type  \\\n",
       "0                spring  groundwater           communal standpipe   \n",
       "1  rainwater harvesting      surface           communal standpipe   \n",
       "2                   dam      surface  communal standpipe multiple   \n",
       "3              borehole  groundwater  communal standpipe multiple   \n",
       "4  rainwater harvesting      surface           communal standpipe   \n",
       "\n",
       "  waterpoint_type_group    status_group  \n",
       "0    communal standpipe      functional  \n",
       "1    communal standpipe      functional  \n",
       "2    communal standpipe      functional  \n",
       "3    communal standpipe  non functional  \n",
       "4    communal standpipe      functional  \n",
       "\n",
       "[5 rows x 41 columns]"
      ]
     },
     "execution_count": 6,
     "metadata": {},
     "output_type": "execute_result"
    }
   ],
   "source": [
    "#Looking at the merged set\n",
    "\n",
    "training_set.head()"
   ]
  },
  {
   "cell_type": "code",
   "execution_count": 7,
   "metadata": {},
   "outputs": [
    {
     "data": {
      "text/plain": [
       "(59400, 41)"
      ]
     },
     "execution_count": 7,
     "metadata": {},
     "output_type": "execute_result"
    }
   ],
   "source": [
    "#Looking at the shape\n",
    "\n",
    "training_set.shape"
   ]
  },
  {
   "cell_type": "markdown",
   "metadata": {},
   "source": [
    "## Descriptive Statistics "
   ]
  },
  {
   "cell_type": "code",
   "execution_count": 8,
   "metadata": {},
   "outputs": [
    {
     "data": {
      "text/html": [
       "<div>\n",
       "<style scoped>\n",
       "    .dataframe tbody tr th:only-of-type {\n",
       "        vertical-align: middle;\n",
       "    }\n",
       "\n",
       "    .dataframe tbody tr th {\n",
       "        vertical-align: top;\n",
       "    }\n",
       "\n",
       "    .dataframe thead th {\n",
       "        text-align: right;\n",
       "    }\n",
       "</style>\n",
       "<table border=\"1\" class=\"dataframe\">\n",
       "  <thead>\n",
       "    <tr style=\"text-align: right;\">\n",
       "      <th></th>\n",
       "      <th>count</th>\n",
       "      <th>mean</th>\n",
       "      <th>std</th>\n",
       "      <th>min</th>\n",
       "      <th>25%</th>\n",
       "      <th>50%</th>\n",
       "      <th>75%</th>\n",
       "      <th>max</th>\n",
       "    </tr>\n",
       "  </thead>\n",
       "  <tbody>\n",
       "    <tr>\n",
       "      <th>id</th>\n",
       "      <td>59400.0</td>\n",
       "      <td>37115.131768</td>\n",
       "      <td>21453.128371</td>\n",
       "      <td>0.00000</td>\n",
       "      <td>18519.750000</td>\n",
       "      <td>37061.500000</td>\n",
       "      <td>55656.500000</td>\n",
       "      <td>7.424700e+04</td>\n",
       "    </tr>\n",
       "    <tr>\n",
       "      <th>amount_tsh</th>\n",
       "      <td>59400.0</td>\n",
       "      <td>317.650385</td>\n",
       "      <td>2997.574558</td>\n",
       "      <td>0.00000</td>\n",
       "      <td>0.000000</td>\n",
       "      <td>0.000000</td>\n",
       "      <td>20.000000</td>\n",
       "      <td>3.500000e+05</td>\n",
       "    </tr>\n",
       "    <tr>\n",
       "      <th>gps_height</th>\n",
       "      <td>59400.0</td>\n",
       "      <td>668.297239</td>\n",
       "      <td>693.116350</td>\n",
       "      <td>-90.00000</td>\n",
       "      <td>0.000000</td>\n",
       "      <td>369.000000</td>\n",
       "      <td>1319.250000</td>\n",
       "      <td>2.770000e+03</td>\n",
       "    </tr>\n",
       "    <tr>\n",
       "      <th>longitude</th>\n",
       "      <td>59400.0</td>\n",
       "      <td>34.077427</td>\n",
       "      <td>6.567432</td>\n",
       "      <td>0.00000</td>\n",
       "      <td>33.090347</td>\n",
       "      <td>34.908743</td>\n",
       "      <td>37.178387</td>\n",
       "      <td>4.034519e+01</td>\n",
       "    </tr>\n",
       "    <tr>\n",
       "      <th>latitude</th>\n",
       "      <td>59400.0</td>\n",
       "      <td>-5.706033</td>\n",
       "      <td>2.946019</td>\n",
       "      <td>-11.64944</td>\n",
       "      <td>-8.540621</td>\n",
       "      <td>-5.021597</td>\n",
       "      <td>-3.326156</td>\n",
       "      <td>-2.000000e-08</td>\n",
       "    </tr>\n",
       "    <tr>\n",
       "      <th>num_private</th>\n",
       "      <td>59400.0</td>\n",
       "      <td>0.474141</td>\n",
       "      <td>12.236230</td>\n",
       "      <td>0.00000</td>\n",
       "      <td>0.000000</td>\n",
       "      <td>0.000000</td>\n",
       "      <td>0.000000</td>\n",
       "      <td>1.776000e+03</td>\n",
       "    </tr>\n",
       "    <tr>\n",
       "      <th>region_code</th>\n",
       "      <td>59400.0</td>\n",
       "      <td>15.297003</td>\n",
       "      <td>17.587406</td>\n",
       "      <td>1.00000</td>\n",
       "      <td>5.000000</td>\n",
       "      <td>12.000000</td>\n",
       "      <td>17.000000</td>\n",
       "      <td>9.900000e+01</td>\n",
       "    </tr>\n",
       "    <tr>\n",
       "      <th>district_code</th>\n",
       "      <td>59400.0</td>\n",
       "      <td>5.629747</td>\n",
       "      <td>9.633649</td>\n",
       "      <td>0.00000</td>\n",
       "      <td>2.000000</td>\n",
       "      <td>3.000000</td>\n",
       "      <td>5.000000</td>\n",
       "      <td>8.000000e+01</td>\n",
       "    </tr>\n",
       "    <tr>\n",
       "      <th>population</th>\n",
       "      <td>59400.0</td>\n",
       "      <td>179.909983</td>\n",
       "      <td>471.482176</td>\n",
       "      <td>0.00000</td>\n",
       "      <td>0.000000</td>\n",
       "      <td>25.000000</td>\n",
       "      <td>215.000000</td>\n",
       "      <td>3.050000e+04</td>\n",
       "    </tr>\n",
       "    <tr>\n",
       "      <th>construction_year</th>\n",
       "      <td>59400.0</td>\n",
       "      <td>1300.652475</td>\n",
       "      <td>951.620547</td>\n",
       "      <td>0.00000</td>\n",
       "      <td>0.000000</td>\n",
       "      <td>1986.000000</td>\n",
       "      <td>2004.000000</td>\n",
       "      <td>2.013000e+03</td>\n",
       "    </tr>\n",
       "  </tbody>\n",
       "</table>\n",
       "</div>"
      ],
      "text/plain": [
       "                     count          mean           std       min  \\\n",
       "id                 59400.0  37115.131768  21453.128371   0.00000   \n",
       "amount_tsh         59400.0    317.650385   2997.574558   0.00000   \n",
       "gps_height         59400.0    668.297239    693.116350 -90.00000   \n",
       "longitude          59400.0     34.077427      6.567432   0.00000   \n",
       "latitude           59400.0     -5.706033      2.946019 -11.64944   \n",
       "num_private        59400.0      0.474141     12.236230   0.00000   \n",
       "region_code        59400.0     15.297003     17.587406   1.00000   \n",
       "district_code      59400.0      5.629747      9.633649   0.00000   \n",
       "population         59400.0    179.909983    471.482176   0.00000   \n",
       "construction_year  59400.0   1300.652475    951.620547   0.00000   \n",
       "\n",
       "                            25%           50%           75%           max  \n",
       "id                 18519.750000  37061.500000  55656.500000  7.424700e+04  \n",
       "amount_tsh             0.000000      0.000000     20.000000  3.500000e+05  \n",
       "gps_height             0.000000    369.000000   1319.250000  2.770000e+03  \n",
       "longitude             33.090347     34.908743     37.178387  4.034519e+01  \n",
       "latitude              -8.540621     -5.021597     -3.326156 -2.000000e-08  \n",
       "num_private            0.000000      0.000000      0.000000  1.776000e+03  \n",
       "region_code            5.000000     12.000000     17.000000  9.900000e+01  \n",
       "district_code          2.000000      3.000000      5.000000  8.000000e+01  \n",
       "population             0.000000     25.000000    215.000000  3.050000e+04  \n",
       "construction_year      0.000000   1986.000000   2004.000000  2.013000e+03  "
      ]
     },
     "execution_count": 8,
     "metadata": {},
     "output_type": "execute_result"
    }
   ],
   "source": [
    "#Statistics on numerical columns\n",
    "training_set.describe().T"
   ]
  },
  {
   "cell_type": "markdown",
   "metadata": {},
   "source": [
    "## Handling missing values"
   ]
  },
  {
   "cell_type": "markdown",
   "metadata": {},
   "source": [
    "We need to check for how complete the data is before performing analysis and preprocessing. If null values are present, we should find a way of handling them to ensure completeness of the data."
   ]
  },
  {
   "cell_type": "code",
   "execution_count": 9,
   "metadata": {},
   "outputs": [
    {
     "data": {
      "text/plain": [
       "id                           0\n",
       "amount_tsh                   0\n",
       "date_recorded                0\n",
       "funder                    3635\n",
       "gps_height                   0\n",
       "installer                 3655\n",
       "longitude                    0\n",
       "latitude                     0\n",
       "wpt_name                     0\n",
       "num_private                  0\n",
       "basin                        0\n",
       "subvillage                 371\n",
       "region                       0\n",
       "region_code                  0\n",
       "district_code                0\n",
       "lga                          0\n",
       "ward                         0\n",
       "population                   0\n",
       "public_meeting            3334\n",
       "recorded_by                  0\n",
       "scheme_management         3877\n",
       "scheme_name              28166\n",
       "permit                    3056\n",
       "construction_year            0\n",
       "extraction_type              0\n",
       "extraction_type_group        0\n",
       "extraction_type_class        0\n",
       "management                   0\n",
       "management_group             0\n",
       "payment                      0\n",
       "payment_type                 0\n",
       "water_quality                0\n",
       "quality_group                0\n",
       "quantity                     0\n",
       "quantity_group               0\n",
       "source                       0\n",
       "source_type                  0\n",
       "source_class                 0\n",
       "waterpoint_type              0\n",
       "waterpoint_type_group        0\n",
       "status_group                 0\n",
       "dtype: int64"
      ]
     },
     "execution_count": 9,
     "metadata": {},
     "output_type": "execute_result"
    }
   ],
   "source": [
    "training_set.isna().sum()"
   ]
  },
  {
   "cell_type": "markdown",
   "metadata": {},
   "source": [
    "A few columns have null values. The percentage of the amount  of missing values on these columns will have an impact on how we handle the missing data. \n"
   ]
  },
  {
   "cell_type": "code",
   "execution_count": 10,
   "metadata": {},
   "outputs": [
    {
     "data": {
      "text/html": [
       "<div>\n",
       "<style scoped>\n",
       "    .dataframe tbody tr th:only-of-type {\n",
       "        vertical-align: middle;\n",
       "    }\n",
       "\n",
       "    .dataframe tbody tr th {\n",
       "        vertical-align: top;\n",
       "    }\n",
       "\n",
       "    .dataframe thead th {\n",
       "        text-align: right;\n",
       "    }\n",
       "</style>\n",
       "<table border=\"1\" class=\"dataframe\">\n",
       "  <thead>\n",
       "    <tr style=\"text-align: right;\">\n",
       "      <th></th>\n",
       "      <th>Percentage</th>\n",
       "    </tr>\n",
       "  </thead>\n",
       "  <tbody>\n",
       "    <tr>\n",
       "      <th>scheme_name</th>\n",
       "      <td>47.417508</td>\n",
       "    </tr>\n",
       "    <tr>\n",
       "      <th>scheme_management</th>\n",
       "      <td>6.526936</td>\n",
       "    </tr>\n",
       "    <tr>\n",
       "      <th>installer</th>\n",
       "      <td>6.153199</td>\n",
       "    </tr>\n",
       "    <tr>\n",
       "      <th>funder</th>\n",
       "      <td>6.119529</td>\n",
       "    </tr>\n",
       "    <tr>\n",
       "      <th>public_meeting</th>\n",
       "      <td>5.612795</td>\n",
       "    </tr>\n",
       "    <tr>\n",
       "      <th>permit</th>\n",
       "      <td>5.144781</td>\n",
       "    </tr>\n",
       "    <tr>\n",
       "      <th>subvillage</th>\n",
       "      <td>0.624579</td>\n",
       "    </tr>\n",
       "  </tbody>\n",
       "</table>\n",
       "</div>"
      ],
      "text/plain": [
       "                   Percentage\n",
       "scheme_name         47.417508\n",
       "scheme_management    6.526936\n",
       "installer            6.153199\n",
       "funder               6.119529\n",
       "public_meeting       5.612795\n",
       "permit               5.144781\n",
       "subvillage           0.624579"
      ]
     },
     "execution_count": 10,
     "metadata": {},
     "output_type": "execute_result"
    }
   ],
   "source": [
    "# Calculating the percentage of missing values on each column\n",
    "null_percentage = pd.DataFrame(training_set.isna().sum()/len(training_set)*100)\n",
    "null_percentage=null_percentage.rename(columns = {0:'Percentage'})\n",
    "null_percentage = null_percentage[(null_percentage['Percentage'] > 0)]\n",
    "null_percentage.sort_values(by = 'Percentage', ascending = False)"
   ]
  },
  {
   "cell_type": "code",
   "execution_count": 11,
   "metadata": {},
   "outputs": [
    {
     "data": {
      "text/html": [
       "<div>\n",
       "<style scoped>\n",
       "    .dataframe tbody tr th:only-of-type {\n",
       "        vertical-align: middle;\n",
       "    }\n",
       "\n",
       "    .dataframe tbody tr th {\n",
       "        vertical-align: top;\n",
       "    }\n",
       "\n",
       "    .dataframe thead th {\n",
       "        text-align: right;\n",
       "    }\n",
       "</style>\n",
       "<table border=\"1\" class=\"dataframe\">\n",
       "  <thead>\n",
       "    <tr style=\"text-align: right;\">\n",
       "      <th></th>\n",
       "      <th>scheme_management</th>\n",
       "      <th>installer</th>\n",
       "      <th>funder</th>\n",
       "      <th>public_meeting</th>\n",
       "      <th>permit</th>\n",
       "      <th>subvillage</th>\n",
       "      <th>scheme_name</th>\n",
       "    </tr>\n",
       "  </thead>\n",
       "  <tbody>\n",
       "    <tr>\n",
       "      <th>0</th>\n",
       "      <td>VWC</td>\n",
       "      <td>Roman</td>\n",
       "      <td>Roman</td>\n",
       "      <td>True</td>\n",
       "      <td>False</td>\n",
       "      <td>Mnyusi B</td>\n",
       "      <td>Roman</td>\n",
       "    </tr>\n",
       "    <tr>\n",
       "      <th>1</th>\n",
       "      <td>Other</td>\n",
       "      <td>GRUMETI</td>\n",
       "      <td>Grumeti</td>\n",
       "      <td>NaN</td>\n",
       "      <td>True</td>\n",
       "      <td>Nyamara</td>\n",
       "      <td>NaN</td>\n",
       "    </tr>\n",
       "    <tr>\n",
       "      <th>2</th>\n",
       "      <td>VWC</td>\n",
       "      <td>World vision</td>\n",
       "      <td>Lottery Club</td>\n",
       "      <td>True</td>\n",
       "      <td>True</td>\n",
       "      <td>Majengo</td>\n",
       "      <td>Nyumba ya mungu pipe scheme</td>\n",
       "    </tr>\n",
       "    <tr>\n",
       "      <th>3</th>\n",
       "      <td>VWC</td>\n",
       "      <td>UNICEF</td>\n",
       "      <td>Unicef</td>\n",
       "      <td>True</td>\n",
       "      <td>True</td>\n",
       "      <td>Mahakamani</td>\n",
       "      <td>NaN</td>\n",
       "    </tr>\n",
       "    <tr>\n",
       "      <th>4</th>\n",
       "      <td>NaN</td>\n",
       "      <td>Artisan</td>\n",
       "      <td>Action In A</td>\n",
       "      <td>True</td>\n",
       "      <td>True</td>\n",
       "      <td>Kyanyamisa</td>\n",
       "      <td>NaN</td>\n",
       "    </tr>\n",
       "    <tr>\n",
       "      <th>...</th>\n",
       "      <td>...</td>\n",
       "      <td>...</td>\n",
       "      <td>...</td>\n",
       "      <td>...</td>\n",
       "      <td>...</td>\n",
       "      <td>...</td>\n",
       "      <td>...</td>\n",
       "    </tr>\n",
       "    <tr>\n",
       "      <th>59395</th>\n",
       "      <td>Water Board</td>\n",
       "      <td>CES</td>\n",
       "      <td>Germany Republi</td>\n",
       "      <td>True</td>\n",
       "      <td>True</td>\n",
       "      <td>Kiduruni</td>\n",
       "      <td>Losaa Kia water supply</td>\n",
       "    </tr>\n",
       "    <tr>\n",
       "      <th>59396</th>\n",
       "      <td>VWC</td>\n",
       "      <td>Cefa</td>\n",
       "      <td>Cefa-njombe</td>\n",
       "      <td>True</td>\n",
       "      <td>True</td>\n",
       "      <td>Igumbilo</td>\n",
       "      <td>Ikondo electrical water sch</td>\n",
       "    </tr>\n",
       "    <tr>\n",
       "      <th>59397</th>\n",
       "      <td>VWC</td>\n",
       "      <td>NaN</td>\n",
       "      <td>NaN</td>\n",
       "      <td>True</td>\n",
       "      <td>False</td>\n",
       "      <td>Madungulu</td>\n",
       "      <td>NaN</td>\n",
       "    </tr>\n",
       "    <tr>\n",
       "      <th>59398</th>\n",
       "      <td>VWC</td>\n",
       "      <td>Musa</td>\n",
       "      <td>Malec</td>\n",
       "      <td>True</td>\n",
       "      <td>True</td>\n",
       "      <td>Mwinyi</td>\n",
       "      <td>NaN</td>\n",
       "    </tr>\n",
       "    <tr>\n",
       "      <th>59399</th>\n",
       "      <td>VWC</td>\n",
       "      <td>World</td>\n",
       "      <td>World Bank</td>\n",
       "      <td>True</td>\n",
       "      <td>True</td>\n",
       "      <td>Kikatanyemba</td>\n",
       "      <td>NaN</td>\n",
       "    </tr>\n",
       "  </tbody>\n",
       "</table>\n",
       "<p>59400 rows × 7 columns</p>\n",
       "</div>"
      ],
      "text/plain": [
       "      scheme_management     installer           funder public_meeting permit  \\\n",
       "0                   VWC         Roman            Roman           True  False   \n",
       "1                 Other       GRUMETI          Grumeti            NaN   True   \n",
       "2                   VWC  World vision     Lottery Club           True   True   \n",
       "3                   VWC        UNICEF           Unicef           True   True   \n",
       "4                   NaN       Artisan      Action In A           True   True   \n",
       "...                 ...           ...              ...            ...    ...   \n",
       "59395       Water Board           CES  Germany Republi           True   True   \n",
       "59396               VWC          Cefa      Cefa-njombe           True   True   \n",
       "59397               VWC           NaN              NaN           True  False   \n",
       "59398               VWC          Musa            Malec           True   True   \n",
       "59399               VWC         World       World Bank           True   True   \n",
       "\n",
       "         subvillage                  scheme_name  \n",
       "0          Mnyusi B                        Roman  \n",
       "1           Nyamara                          NaN  \n",
       "2           Majengo  Nyumba ya mungu pipe scheme  \n",
       "3        Mahakamani                          NaN  \n",
       "4        Kyanyamisa                          NaN  \n",
       "...             ...                          ...  \n",
       "59395      Kiduruni       Losaa Kia water supply  \n",
       "59396      Igumbilo  Ikondo electrical water sch  \n",
       "59397     Madungulu                          NaN  \n",
       "59398        Mwinyi                          NaN  \n",
       "59399  Kikatanyemba                          NaN  \n",
       "\n",
       "[59400 rows x 7 columns]"
      ]
     },
     "execution_count": 11,
     "metadata": {},
     "output_type": "execute_result"
    }
   ],
   "source": [
    "training_set[['scheme_management', 'installer', 'funder', 'public_meeting','permit','subvillage','scheme_name']]"
   ]
  },
  {
   "cell_type": "markdown",
   "metadata": {},
   "source": [
    "For any variable with missing values greater than 15% of the dataset, we will eliminate these variables. They may cause trouble during the machine learning process. `scheme_name` column has 47% of it's data missing so it will therefore be dropped."
   ]
  },
  {
   "cell_type": "code",
   "execution_count": 12,
   "metadata": {},
   "outputs": [],
   "source": [
    "#Dropping scheme_name\n",
    "\n",
    "training_set.drop(columns = 'scheme_name', inplace = True)"
   ]
  },
  {
   "cell_type": "markdown",
   "metadata": {},
   "source": [
    "We will fill the missing values of the other columns with the value missing as we cannot tell whether these were emission errors or an actual category to for example show that the value of a certain column was false."
   ]
  },
  {
   "cell_type": "code",
   "execution_count": 13,
   "metadata": {},
   "outputs": [],
   "source": [
    "#Filling in the missing values \n",
    "\n",
    "training_set.fillna(value = 'MISSING', inplace = True)"
   ]
  },
  {
   "cell_type": "markdown",
   "metadata": {},
   "source": [
    "## Checking for duplictes "
   ]
  },
  {
   "cell_type": "code",
   "execution_count": 14,
   "metadata": {},
   "outputs": [
    {
     "data": {
      "text/plain": [
       "0"
      ]
     },
     "execution_count": 14,
     "metadata": {},
     "output_type": "execute_result"
    }
   ],
   "source": [
    "#Checking for duplicates \n",
    "training_set.duplicated().sum()"
   ]
  },
  {
   "cell_type": "markdown",
   "metadata": {},
   "source": [
    "The data has no duplicates. We however need to look more into the variables as some columns seemed to have a similar description. It would be wise to look deeper into them so as to reduce redundancy and ensure we do not have columns that are completely similar. By going through the description the following columns need further investigation to ensure that our data is consistent.\n",
    "\n",
    "- `payment` and `payment_type`\n",
    "\n",
    "- `waterpoint_type` and `waterpoint_type_group`\n",
    "\n",
    "- `source` and `source_type`\n",
    "\n",
    "- `quantity` and `quantity_group`\n",
    "\n",
    "- `water_quality` and `quality_group`\n",
    "\n",
    "- `management` and `scheme_management`\n",
    "\n",
    "- `extraction`, `extraction_type_group` and `extraction_type_class`"
   ]
  },
  {
   "cell_type": "markdown",
   "metadata": {},
   "source": [
    "### `payment` vs `payment_type`"
   ]
  },
  {
   "cell_type": "code",
   "execution_count": 15,
   "metadata": {},
   "outputs": [
    {
     "data": {
      "text/plain": [
       "never pay                25348\n",
       "pay per bucket            8985\n",
       "pay monthly               8300\n",
       "unknown                   8157\n",
       "pay when scheme fails     3914\n",
       "pay annually              3642\n",
       "other                     1054\n",
       "Name: payment, dtype: int64"
      ]
     },
     "execution_count": 15,
     "metadata": {},
     "output_type": "execute_result"
    }
   ],
   "source": [
    "training_set['payment'].value_counts()"
   ]
  },
  {
   "cell_type": "code",
   "execution_count": 16,
   "metadata": {},
   "outputs": [
    {
     "data": {
      "text/plain": [
       "never pay     25348\n",
       "per bucket     8985\n",
       "monthly        8300\n",
       "unknown        8157\n",
       "on failure     3914\n",
       "annually       3642\n",
       "other          1054\n",
       "Name: payment_type, dtype: int64"
      ]
     },
     "execution_count": 16,
     "metadata": {},
     "output_type": "execute_result"
    }
   ],
   "source": [
    "training_set['payment_type'].value_counts()"
   ]
  },
  {
   "cell_type": "markdown",
   "metadata": {},
   "source": [
    "Both have the same entries so we could drop `payment_type`"
   ]
  },
  {
   "cell_type": "markdown",
   "metadata": {},
   "source": [
    "### `waterpoint_type` vs `waterpoint_type_group`"
   ]
  },
  {
   "cell_type": "code",
   "execution_count": 17,
   "metadata": {},
   "outputs": [
    {
     "data": {
      "text/plain": [
       "communal standpipe             28522\n",
       "hand pump                      17488\n",
       "other                           6380\n",
       "communal standpipe multiple     6103\n",
       "improved spring                  784\n",
       "cattle trough                    116\n",
       "dam                                7\n",
       "Name: waterpoint_type, dtype: int64"
      ]
     },
     "execution_count": 17,
     "metadata": {},
     "output_type": "execute_result"
    }
   ],
   "source": [
    "training_set['waterpoint_type'].value_counts()"
   ]
  },
  {
   "cell_type": "code",
   "execution_count": 18,
   "metadata": {},
   "outputs": [
    {
     "data": {
      "text/plain": [
       "communal standpipe    34625\n",
       "hand pump             17488\n",
       "other                  6380\n",
       "improved spring         784\n",
       "cattle trough           116\n",
       "dam                       7\n",
       "Name: waterpoint_type_group, dtype: int64"
      ]
     },
     "execution_count": 18,
     "metadata": {},
     "output_type": "execute_result"
    }
   ],
   "source": [
    "training_set['waterpoint_type_group'].value_counts()"
   ]
  },
  {
   "cell_type": "markdown",
   "metadata": {},
   "source": [
    "Both columns are similar, except from the feature called 'Communal Standpipe Multiple' in `waterpoint_type` which is a version of the 'Communal Standpipe'. In this case we could drop `waterpoint_type_group` "
   ]
  },
  {
   "cell_type": "markdown",
   "metadata": {},
   "source": [
    "### `source` vs `source_type`"
   ]
  },
  {
   "cell_type": "code",
   "execution_count": 19,
   "metadata": {},
   "outputs": [
    {
     "data": {
      "text/plain": [
       "spring                  17021\n",
       "shallow well            16824\n",
       "machine dbh             11075\n",
       "river                    9612\n",
       "rainwater harvesting     2295\n",
       "hand dtw                  874\n",
       "lake                      765\n",
       "dam                       656\n",
       "other                     212\n",
       "unknown                    66\n",
       "Name: source, dtype: int64"
      ]
     },
     "execution_count": 19,
     "metadata": {},
     "output_type": "execute_result"
    }
   ],
   "source": [
    "\n",
    "training_set['source'].value_counts()"
   ]
  },
  {
   "cell_type": "code",
   "execution_count": 20,
   "metadata": {},
   "outputs": [
    {
     "data": {
      "text/plain": [
       "spring                  17021\n",
       "shallow well            16824\n",
       "borehole                11949\n",
       "river/lake              10377\n",
       "rainwater harvesting     2295\n",
       "dam                       656\n",
       "other                     278\n",
       "Name: source_type, dtype: int64"
      ]
     },
     "execution_count": 20,
     "metadata": {},
     "output_type": "execute_result"
    }
   ],
   "source": [
    "\n",
    "training_set['source_type'].value_counts()"
   ]
  },
  {
   "cell_type": "markdown",
   "metadata": {},
   "source": [
    "The rows contain similar entries. However, both columns have aspects that are unique to them. There's more detail in `source` which describes the type of motor system that is being utilised. The `source_type` column also includes borehole that is not in `source`. In this case we could actually keep both columns."
   ]
  },
  {
   "cell_type": "markdown",
   "metadata": {},
   "source": [
    "### `quantity` vs `quantity_group`"
   ]
  },
  {
   "cell_type": "code",
   "execution_count": 21,
   "metadata": {},
   "outputs": [
    {
     "data": {
      "text/plain": [
       "enough          33186\n",
       "insufficient    15129\n",
       "dry              6246\n",
       "seasonal         4050\n",
       "unknown           789\n",
       "Name: quantity, dtype: int64"
      ]
     },
     "execution_count": 21,
     "metadata": {},
     "output_type": "execute_result"
    }
   ],
   "source": [
    "training_set['quantity'].value_counts()"
   ]
  },
  {
   "cell_type": "code",
   "execution_count": 22,
   "metadata": {},
   "outputs": [
    {
     "data": {
      "text/plain": [
       "enough          33186\n",
       "insufficient    15129\n",
       "dry              6246\n",
       "seasonal         4050\n",
       "unknown           789\n",
       "Name: quantity_group, dtype: int64"
      ]
     },
     "execution_count": 22,
     "metadata": {},
     "output_type": "execute_result"
    }
   ],
   "source": [
    "training_set['quantity_group'].value_counts()"
   ]
  },
  {
   "cell_type": "markdown",
   "metadata": {},
   "source": [
    "The columns have similar records. We will drop `quantity_group`."
   ]
  },
  {
   "cell_type": "markdown",
   "metadata": {},
   "source": [
    " ### `water_quality` and `quality_group`\n"
   ]
  },
  {
   "cell_type": "code",
   "execution_count": 23,
   "metadata": {},
   "outputs": [
    {
     "data": {
      "text/plain": [
       "soft                  50818\n",
       "salty                  4856\n",
       "unknown                1876\n",
       "milky                   804\n",
       "coloured                490\n",
       "salty abandoned         339\n",
       "fluoride                200\n",
       "fluoride abandoned       17\n",
       "Name: water_quality, dtype: int64"
      ]
     },
     "execution_count": 23,
     "metadata": {},
     "output_type": "execute_result"
    }
   ],
   "source": [
    "training_set['water_quality'].value_counts()"
   ]
  },
  {
   "cell_type": "code",
   "execution_count": 24,
   "metadata": {},
   "outputs": [
    {
     "data": {
      "text/plain": [
       "good        50818\n",
       "salty        5195\n",
       "unknown      1876\n",
       "milky         804\n",
       "colored       490\n",
       "fluoride      217\n",
       "Name: quality_group, dtype: int64"
      ]
     },
     "execution_count": 24,
     "metadata": {},
     "output_type": "execute_result"
    }
   ],
   "source": [
    "training_set['quality_group'].value_counts()"
   ]
  },
  {
   "cell_type": "markdown",
   "metadata": {},
   "source": [
    "Both columns have the same information. Since the `water_quality` column has more detail. we will keep that one and drop the `quality_group` column.\n"
   ]
  },
  {
   "cell_type": "markdown",
   "metadata": {},
   "source": [
    "### `management` vs `scheme_management`\n"
   ]
  },
  {
   "cell_type": "code",
   "execution_count": 25,
   "metadata": {},
   "outputs": [
    {
     "data": {
      "text/plain": [
       "vwc                 40507\n",
       "wug                  6515\n",
       "water board          2933\n",
       "wua                  2535\n",
       "private operator     1971\n",
       "parastatal           1768\n",
       "water authority       904\n",
       "other                 844\n",
       "company               685\n",
       "unknown               561\n",
       "other - school         99\n",
       "trust                  78\n",
       "Name: management, dtype: int64"
      ]
     },
     "execution_count": 25,
     "metadata": {},
     "output_type": "execute_result"
    }
   ],
   "source": [
    "\n",
    "training_set['management'].value_counts()"
   ]
  },
  {
   "cell_type": "code",
   "execution_count": 26,
   "metadata": {},
   "outputs": [
    {
     "data": {
      "text/plain": [
       "VWC                 36793\n",
       "WUG                  5206\n",
       "MISSING              3877\n",
       "Water authority      3153\n",
       "WUA                  2883\n",
       "Water Board          2748\n",
       "Parastatal           1680\n",
       "Private operator     1063\n",
       "Company              1061\n",
       "Other                 766\n",
       "SWC                    97\n",
       "Trust                  72\n",
       "None                    1\n",
       "Name: scheme_management, dtype: int64"
      ]
     },
     "execution_count": 26,
     "metadata": {},
     "output_type": "execute_result"
    }
   ],
   "source": [
    "training_set['scheme_management'].value_counts()"
   ]
  },
  {
   "cell_type": "code",
   "execution_count": 27,
   "metadata": {},
   "outputs": [],
   "source": [
    "# Changing everything to lowercase\n",
    "\n",
    "training_set['management'] = training_set['management'].str.lower()\n",
    "training_set['scheme_management'] = training_set['scheme_management'].str.lower()\n",
    "\n"
   ]
  },
  {
   "cell_type": "code",
   "execution_count": 28,
   "metadata": {},
   "outputs": [
    {
     "name": "stdout",
     "output_type": "stream",
     "text": [
      "Similar entries: 49336\n",
      "Non-similar entries: 10064 \n"
     ]
    }
   ],
   "source": [
    "#Comparing similar vs Non-similar entries \n",
    "print('Similar entries: {}'.format(training_set.loc[(training_set['management'] == training_set['scheme_management'])].shape[0]))\n",
    "print('Non-similar entries: {} '.format(training_set.loc[(training_set['management'] != training_set['scheme_management'])].shape[0]))"
   ]
  },
  {
   "cell_type": "markdown",
   "metadata": {},
   "source": [
    "The two columns have alot of entries that are similar, however, `management` has two extra columns: unknown and other schools. Given that `scheme_management` had 3,877 entries that were missing, `scheme_management` can be dropped."
   ]
  },
  {
   "cell_type": "markdown",
   "metadata": {},
   "source": [
    "### `extraction_type` vs `extraction_type_group` vs `extraction_type_class`"
   ]
  },
  {
   "cell_type": "code",
   "execution_count": 29,
   "metadata": {},
   "outputs": [
    {
     "data": {
      "text/plain": [
       "gravity                      26780\n",
       "nira/tanira                   8154\n",
       "other                         6430\n",
       "submersible                   4764\n",
       "swn 80                        3670\n",
       "mono                          2865\n",
       "india mark ii                 2400\n",
       "afridev                       1770\n",
       "ksb                           1415\n",
       "other - rope pump              451\n",
       "other - swn 81                 229\n",
       "windmill                       117\n",
       "india mark iii                  98\n",
       "cemo                            90\n",
       "other - play pump               85\n",
       "walimi                          48\n",
       "climax                          32\n",
       "other - mkulima/shinyanga        2\n",
       "Name: extraction_type, dtype: int64"
      ]
     },
     "execution_count": 29,
     "metadata": {},
     "output_type": "execute_result"
    }
   ],
   "source": [
    "\n",
    "training_set['extraction_type'].value_counts()"
   ]
  },
  {
   "cell_type": "code",
   "execution_count": 30,
   "metadata": {},
   "outputs": [
    {
     "data": {
      "text/plain": [
       "gravity            26780\n",
       "nira/tanira         8154\n",
       "other               6430\n",
       "submersible         6179\n",
       "swn 80              3670\n",
       "mono                2865\n",
       "india mark ii       2400\n",
       "afridev             1770\n",
       "rope pump            451\n",
       "other handpump       364\n",
       "other motorpump      122\n",
       "wind-powered         117\n",
       "india mark iii        98\n",
       "Name: extraction_type_group, dtype: int64"
      ]
     },
     "execution_count": 30,
     "metadata": {},
     "output_type": "execute_result"
    }
   ],
   "source": [
    "\n",
    "training_set['extraction_type_group'].value_counts()"
   ]
  },
  {
   "cell_type": "code",
   "execution_count": 31,
   "metadata": {},
   "outputs": [
    {
     "data": {
      "text/plain": [
       "gravity         26780\n",
       "handpump        16456\n",
       "other            6430\n",
       "submersible      6179\n",
       "motorpump        2987\n",
       "rope pump         451\n",
       "wind-powered      117\n",
       "Name: extraction_type_class, dtype: int64"
      ]
     },
     "execution_count": 31,
     "metadata": {},
     "output_type": "execute_result"
    }
   ],
   "source": [
    "\n",
    "training_set['extraction_type_class'].value_counts()"
   ]
  },
  {
   "cell_type": "markdown",
   "metadata": {},
   "source": [
    "The three columns have similar entries. We could keep `extraction_type_class` given that it seems to have put everything togehter in a generalized manner."
   ]
  },
  {
   "cell_type": "markdown",
   "metadata": {},
   "source": [
    "## Dropping columns"
   ]
  },
  {
   "cell_type": "code",
   "execution_count": 32,
   "metadata": {},
   "outputs": [],
   "source": [
    "# Dropping columns to keep relevant ones.\n",
    "training_set.drop(columns = ['waterpoint_type_group', 'source', 'quantity_group', 'quality_group', \n",
    "                   'payment_type', 'scheme_management', 'extraction_type', 'id', \n",
    "                   'num_private','extraction_type_group'], inplace=True)"
   ]
  },
  {
   "cell_type": "code",
   "execution_count": 33,
   "metadata": {},
   "outputs": [
    {
     "name": "stdout",
     "output_type": "stream",
     "text": [
      "<class 'pandas.core.frame.DataFrame'>\n",
      "Int64Index: 59400 entries, 0 to 59399\n",
      "Data columns (total 30 columns):\n",
      " #   Column                 Non-Null Count  Dtype  \n",
      "---  ------                 --------------  -----  \n",
      " 0   amount_tsh             59400 non-null  float64\n",
      " 1   date_recorded          59400 non-null  object \n",
      " 2   funder                 59400 non-null  object \n",
      " 3   gps_height             59400 non-null  int64  \n",
      " 4   installer              59400 non-null  object \n",
      " 5   longitude              59400 non-null  float64\n",
      " 6   latitude               59400 non-null  float64\n",
      " 7   wpt_name               59400 non-null  object \n",
      " 8   basin                  59400 non-null  object \n",
      " 9   subvillage             59400 non-null  object \n",
      " 10  region                 59400 non-null  object \n",
      " 11  region_code            59400 non-null  int64  \n",
      " 12  district_code          59400 non-null  int64  \n",
      " 13  lga                    59400 non-null  object \n",
      " 14  ward                   59400 non-null  object \n",
      " 15  population             59400 non-null  int64  \n",
      " 16  public_meeting         59400 non-null  object \n",
      " 17  recorded_by            59400 non-null  object \n",
      " 18  permit                 59400 non-null  object \n",
      " 19  construction_year      59400 non-null  int64  \n",
      " 20  extraction_type_class  59400 non-null  object \n",
      " 21  management             59400 non-null  object \n",
      " 22  management_group       59400 non-null  object \n",
      " 23  payment                59400 non-null  object \n",
      " 24  water_quality          59400 non-null  object \n",
      " 25  quantity               59400 non-null  object \n",
      " 26  source_type            59400 non-null  object \n",
      " 27  source_class           59400 non-null  object \n",
      " 28  waterpoint_type        59400 non-null  object \n",
      " 29  status_group           59400 non-null  object \n",
      "dtypes: float64(3), int64(5), object(22)\n",
      "memory usage: 14.0+ MB\n"
     ]
    }
   ],
   "source": [
    "training_set.info()"
   ]
  },
  {
   "cell_type": "markdown",
   "metadata": {},
   "source": [
    "## Checking Data Types"
   ]
  },
  {
   "cell_type": "code",
   "execution_count": 34,
   "metadata": {},
   "outputs": [],
   "source": [
    "#Changing date recorded to date-time\n",
    "training_set['date_recorded'] = pd.to_datetime(training_set['date_recorded'])"
   ]
  },
  {
   "cell_type": "code",
   "execution_count": 35,
   "metadata": {},
   "outputs": [],
   "source": [
    "#Getting year from the date \n",
    "\n",
    "training_set['year_recorded'] = training_set['date_recorded'].dt.year"
   ]
  },
  {
   "cell_type": "markdown",
   "metadata": {},
   "source": [
    "Furhter inspection on the remaining columns unveils that some columns have so many unique values which would cause a problem while training our data."
   ]
  },
  {
   "cell_type": "markdown",
   "metadata": {},
   "source": [
    "### `installer`"
   ]
  },
  {
   "cell_type": "code",
   "execution_count": 36,
   "metadata": {},
   "outputs": [
    {
     "data": {
      "text/plain": [
       "2146"
      ]
     },
     "execution_count": 36,
     "metadata": {},
     "output_type": "execute_result"
    }
   ],
   "source": [
    "training_set['installer'].nunique()"
   ]
  },
  {
   "cell_type": "markdown",
   "metadata": {},
   "source": [
    "Alot of spelling mistakes were discovered that would be the root cause of this issue. A solution for this would be to replace these words with the correct ones."
   ]
  },
  {
   "cell_type": "code",
   "execution_count": 37,
   "metadata": {},
   "outputs": [],
   "source": [
    "to_replace = {'District Water Department':'District water department', 'District water depar':'District water department',\n",
    " 'Distric Water Department':'District water department','FinW':'Fini Water','Fini water':'Fini Water',\n",
    " 'FINI WATER':'Fini Water','JAICA':'Jaica','COUN':'District council', 'District COUNCIL':'District council', \n",
    " 'DISTRICT COUNCIL':'District council','District Counci':'District council','District Council':'District council',\n",
    " 'Council':'District council','Counc':'District council','District  Council':'District council',\n",
    " 'Distri':'District council','RC CHURCH':'RC Church', 'RC Churc':'RC Church', 'RC':'RC Church',\n",
    " 'RC Ch':'RC Church','RC C':'RC Church', 'RC CH':'RC Church','RC church':'RC Church', 'RC CATHORIC':'RC Church',\n",
    "'Central Government':'Central government','Tanzania Government':'Central government',\n",
    "'central government':'Central government','Cental Government':'Central government', 'Cebtral Government':'Central government', \n",
    "'Tanzanian Government':'Central government','Tanzania government':'Central government', \n",
    "'Centra Government' :'Central government','CENTRAL GOVERNMENT':'Central government', 'TANZANIAN GOVERNMENT':'Central government'\n",
    " ,'Central govt':'Central government', 'Centr':'Central government', 'Centra govt':'Central government','World vision':'world vision', \n",
    " 'World Division':'world vision','World Vision':'world vision', 'Unisef':'Unicef','UNICEF':'Unicef','DANID':'DANIDA', 'Hesawa':'HESAWA',\n",
    "'Commu':'Community','Communit':'Community','commu':'Community','COMMU':'Community', 'COMMUNITY':'Community',\n",
    "'GOVERNMENT':'Government', 'GOVER':'Government', 'GOVERNME':'Government', 'GOVERM':'Government','GOVERN':'Government','Gover':'Government',\n",
    " 'Gove':'Government','Governme':'Government','Governmen':'Government',\n",
    "'villigers':'villagers', 'villager':'villagers', 'Villagers':'villagers', 'Villa':'villagers', 'Village':'villagers', 'Villi':'villagers',\n",
    "'Village Council':'villagers','Village Counil':'villagers', 'Villages':'villagers', 'Vill':'villagers', 'Village community':'villagers',\n",
    "'Villaers':'villagers', 'Village Community':'villagers', 'Villag':'villagers','Villege Council':'villagers', 'Village council':'villagers',\n",
    "'Village  Council':'villagers','Villagerd':'villagers', 'Villager':'villagers', 'Village Technician':'villagers',\n",
    "'Village Office':'villagers','Village community members':'villagers', \n",
    "'Colonial Government':'Colonial government', 'Government of Misri':'Misri Government', 'Italy government':'Italian government',\n",
    "'British colonial government':'British government', 'Concern /government':'Concern/Government', 'Village Government':'Village government',\n",
    "'Government and Community':'Government /Community', 'Cetral government /RC':'RC church/Central Gover',\n",
    "'Government /TCRS':'TCRS /Government','Government/TCRS':'TCRS /Government','ADRA /Government':'ADRA/Government'}"
   ]
  },
  {
   "cell_type": "code",
   "execution_count": 38,
   "metadata": {},
   "outputs": [],
   "source": [
    "\n",
    "training_set['installer'].replace(to_replace, inplace = True)"
   ]
  },
  {
   "cell_type": "code",
   "execution_count": 39,
   "metadata": {},
   "outputs": [
    {
     "data": {
      "text/plain": [
       "2055"
      ]
     },
     "execution_count": 39,
     "metadata": {},
     "output_type": "execute_result"
    }
   ],
   "source": [
    "training_set['installer'].nunique()"
   ]
  },
  {
   "cell_type": "markdown",
   "metadata": {},
   "source": [
    "Getting rid of the spelling mistakes gets this to 18 unique values."
   ]
  },
  {
   "cell_type": "code",
   "execution_count": 40,
   "metadata": {},
   "outputs": [
    {
     "data": {
      "text/plain": [
       "array(['Roman', 'GRUMETI', 'world vision', ..., 'Dina', 'brown',\n",
       "       'SELEPTA'], dtype=object)"
      ]
     },
     "execution_count": 40,
     "metadata": {},
     "output_type": "execute_result"
    }
   ],
   "source": [
    "#Listing our unique values \n",
    "training_set['installer'].unique()"
   ]
  },
  {
   "cell_type": "markdown",
   "metadata": {},
   "source": [
    "## Feature Engineering"
   ]
  },
  {
   "cell_type": "markdown",
   "metadata": {},
   "source": [
    "Using the `construction_year` and `date_recorded` we could come up with the feature `age`."
   ]
  },
  {
   "cell_type": "code",
   "execution_count": 41,
   "metadata": {},
   "outputs": [
    {
     "data": {
      "text/plain": [
       "array([1999, 2010, 2009, 1986,    0, 2011, 1987, 1991, 1978, 1992, 2008,\n",
       "       1974, 2000, 2002, 2004, 1972, 2003, 1980, 2007, 1973, 1985, 1970,\n",
       "       1995, 2006, 1962, 2005, 1997, 2012, 1996, 1977, 1983, 1984, 1990,\n",
       "       1982, 1976, 1988, 1989, 1975, 1960, 1961, 1998, 1963, 1971, 1994,\n",
       "       1968, 1993, 2001, 1979, 1967, 2013, 1969, 1981, 1964, 1966, 1965],\n",
       "      dtype=int64)"
      ]
     },
     "execution_count": 41,
     "metadata": {},
     "output_type": "execute_result"
    }
   ],
   "source": [
    "\n",
    "training_set['construction_year'].unique()"
   ]
  },
  {
   "cell_type": "markdown",
   "metadata": {},
   "source": [
    "We will replace the 0 values with the median of the construction year.\n"
   ]
  },
  {
   "cell_type": "code",
   "execution_count": 42,
   "metadata": {},
   "outputs": [
    {
     "data": {
      "text/plain": [
       "amount_tsh              0.000000\n",
       "gps_height           1154.000000\n",
       "longitude              36.648187\n",
       "latitude               -6.064216\n",
       "region_code            11.000000\n",
       "district_code           3.000000\n",
       "population            150.000000\n",
       "construction_year    2000.000000\n",
       "year_recorded        2013.000000\n",
       "dtype: float64"
      ]
     },
     "execution_count": 42,
     "metadata": {},
     "output_type": "execute_result"
    }
   ],
   "source": [
    "\n",
    "training_set[training_set['construction_year']>0].median()"
   ]
  },
  {
   "cell_type": "code",
   "execution_count": 43,
   "metadata": {},
   "outputs": [],
   "source": [
    "training_set['construction_year'].replace(to_replace=0, value=2000, inplace = True)"
   ]
  },
  {
   "cell_type": "code",
   "execution_count": 44,
   "metadata": {},
   "outputs": [
    {
     "data": {
      "text/plain": [
       "array([12,  3,  4, 27, 11,  2,  0, 26, 20, 33, 19, 13, 39,  7, 41,  8,  5,\n",
       "       25,  9, 38, 28, 43,  1, 16, 22, 10, 24,  6, 35, 49, 14, 15, 37, 17,\n",
       "       36, 30, 51, 23, 29, 53, 50, 31, 21, 42, 18, 45, 34, 46, 40, 44, 32,\n",
       "       48, 47, 52, -4, -2, -7, -5, -1, -3], dtype=int64)"
      ]
     },
     "execution_count": 44,
     "metadata": {},
     "output_type": "execute_result"
    }
   ],
   "source": [
    "#Creating the new column age\n",
    "training_set['age'] = training_set['year_recorded'] - training_set['construction_year']\n",
    "\n",
    "training_set['age'].unique()"
   ]
  },
  {
   "cell_type": "markdown",
   "metadata": {},
   "source": [
    "We will drop the rows with negative values as errors must have occurred during recording."
   ]
  },
  {
   "cell_type": "code",
   "execution_count": 45,
   "metadata": {},
   "outputs": [],
   "source": [
    "#Dropping ages less than zero\n",
    "training_set.drop(training_set[training_set['age'] < 0].index, inplace = True)"
   ]
  },
  {
   "cell_type": "code",
   "execution_count": 46,
   "metadata": {},
   "outputs": [
    {
     "data": {
      "text/plain": [
       "array([12,  3,  4, 27, 11,  2,  0, 26, 20, 33, 19, 13, 39,  7, 41,  8,  5,\n",
       "       25,  9, 38, 28, 43,  1, 16, 22, 10, 24,  6, 35, 49, 14, 15, 37, 17,\n",
       "       36, 30, 51, 23, 29, 53, 50, 31, 21, 42, 18, 45, 34, 46, 40, 44, 32,\n",
       "       48, 47, 52], dtype=int64)"
      ]
     },
     "execution_count": 46,
     "metadata": {},
     "output_type": "execute_result"
    }
   ],
   "source": [
    "training_set['age'].unique()"
   ]
  },
  {
   "cell_type": "code",
   "execution_count": 47,
   "metadata": {},
   "outputs": [
    {
     "data": {
      "text/html": [
       "<div>\n",
       "<style scoped>\n",
       "    .dataframe tbody tr th:only-of-type {\n",
       "        vertical-align: middle;\n",
       "    }\n",
       "\n",
       "    .dataframe tbody tr th {\n",
       "        vertical-align: top;\n",
       "    }\n",
       "\n",
       "    .dataframe thead th {\n",
       "        text-align: right;\n",
       "    }\n",
       "</style>\n",
       "<table border=\"1\" class=\"dataframe\">\n",
       "  <thead>\n",
       "    <tr style=\"text-align: right;\">\n",
       "      <th></th>\n",
       "      <th>amount_tsh</th>\n",
       "      <th>date_recorded</th>\n",
       "      <th>funder</th>\n",
       "      <th>gps_height</th>\n",
       "      <th>installer</th>\n",
       "      <th>longitude</th>\n",
       "      <th>latitude</th>\n",
       "      <th>wpt_name</th>\n",
       "      <th>basin</th>\n",
       "      <th>subvillage</th>\n",
       "      <th>...</th>\n",
       "      <th>management_group</th>\n",
       "      <th>payment</th>\n",
       "      <th>water_quality</th>\n",
       "      <th>quantity</th>\n",
       "      <th>source_type</th>\n",
       "      <th>source_class</th>\n",
       "      <th>waterpoint_type</th>\n",
       "      <th>status_group</th>\n",
       "      <th>year_recorded</th>\n",
       "      <th>age</th>\n",
       "    </tr>\n",
       "  </thead>\n",
       "  <tbody>\n",
       "    <tr>\n",
       "      <th>0</th>\n",
       "      <td>6000.0</td>\n",
       "      <td>2011-03-14</td>\n",
       "      <td>Roman</td>\n",
       "      <td>1390</td>\n",
       "      <td>Roman</td>\n",
       "      <td>34.938093</td>\n",
       "      <td>-9.856322</td>\n",
       "      <td>none</td>\n",
       "      <td>Lake Nyasa</td>\n",
       "      <td>Mnyusi B</td>\n",
       "      <td>...</td>\n",
       "      <td>user-group</td>\n",
       "      <td>pay annually</td>\n",
       "      <td>soft</td>\n",
       "      <td>enough</td>\n",
       "      <td>spring</td>\n",
       "      <td>groundwater</td>\n",
       "      <td>communal standpipe</td>\n",
       "      <td>functional</td>\n",
       "      <td>2011</td>\n",
       "      <td>12</td>\n",
       "    </tr>\n",
       "    <tr>\n",
       "      <th>1</th>\n",
       "      <td>0.0</td>\n",
       "      <td>2013-03-06</td>\n",
       "      <td>Grumeti</td>\n",
       "      <td>1399</td>\n",
       "      <td>GRUMETI</td>\n",
       "      <td>34.698766</td>\n",
       "      <td>-2.147466</td>\n",
       "      <td>Zahanati</td>\n",
       "      <td>Lake Victoria</td>\n",
       "      <td>Nyamara</td>\n",
       "      <td>...</td>\n",
       "      <td>user-group</td>\n",
       "      <td>never pay</td>\n",
       "      <td>soft</td>\n",
       "      <td>insufficient</td>\n",
       "      <td>rainwater harvesting</td>\n",
       "      <td>surface</td>\n",
       "      <td>communal standpipe</td>\n",
       "      <td>functional</td>\n",
       "      <td>2013</td>\n",
       "      <td>3</td>\n",
       "    </tr>\n",
       "    <tr>\n",
       "      <th>2</th>\n",
       "      <td>25.0</td>\n",
       "      <td>2013-02-25</td>\n",
       "      <td>Lottery Club</td>\n",
       "      <td>686</td>\n",
       "      <td>world vision</td>\n",
       "      <td>37.460664</td>\n",
       "      <td>-3.821329</td>\n",
       "      <td>Kwa Mahundi</td>\n",
       "      <td>Pangani</td>\n",
       "      <td>Majengo</td>\n",
       "      <td>...</td>\n",
       "      <td>user-group</td>\n",
       "      <td>pay per bucket</td>\n",
       "      <td>soft</td>\n",
       "      <td>enough</td>\n",
       "      <td>dam</td>\n",
       "      <td>surface</td>\n",
       "      <td>communal standpipe multiple</td>\n",
       "      <td>functional</td>\n",
       "      <td>2013</td>\n",
       "      <td>4</td>\n",
       "    </tr>\n",
       "    <tr>\n",
       "      <th>3</th>\n",
       "      <td>0.0</td>\n",
       "      <td>2013-01-28</td>\n",
       "      <td>Unicef</td>\n",
       "      <td>263</td>\n",
       "      <td>Unicef</td>\n",
       "      <td>38.486161</td>\n",
       "      <td>-11.155298</td>\n",
       "      <td>Zahanati Ya Nanyumbu</td>\n",
       "      <td>Ruvuma / Southern Coast</td>\n",
       "      <td>Mahakamani</td>\n",
       "      <td>...</td>\n",
       "      <td>user-group</td>\n",
       "      <td>never pay</td>\n",
       "      <td>soft</td>\n",
       "      <td>dry</td>\n",
       "      <td>borehole</td>\n",
       "      <td>groundwater</td>\n",
       "      <td>communal standpipe multiple</td>\n",
       "      <td>non functional</td>\n",
       "      <td>2013</td>\n",
       "      <td>27</td>\n",
       "    </tr>\n",
       "    <tr>\n",
       "      <th>4</th>\n",
       "      <td>0.0</td>\n",
       "      <td>2011-07-13</td>\n",
       "      <td>Action In A</td>\n",
       "      <td>0</td>\n",
       "      <td>Artisan</td>\n",
       "      <td>31.130847</td>\n",
       "      <td>-1.825359</td>\n",
       "      <td>Shuleni</td>\n",
       "      <td>Lake Victoria</td>\n",
       "      <td>Kyanyamisa</td>\n",
       "      <td>...</td>\n",
       "      <td>other</td>\n",
       "      <td>never pay</td>\n",
       "      <td>soft</td>\n",
       "      <td>seasonal</td>\n",
       "      <td>rainwater harvesting</td>\n",
       "      <td>surface</td>\n",
       "      <td>communal standpipe</td>\n",
       "      <td>functional</td>\n",
       "      <td>2011</td>\n",
       "      <td>11</td>\n",
       "    </tr>\n",
       "  </tbody>\n",
       "</table>\n",
       "<p>5 rows × 32 columns</p>\n",
       "</div>"
      ],
      "text/plain": [
       "   amount_tsh date_recorded        funder  gps_height     installer  \\\n",
       "0      6000.0    2011-03-14         Roman        1390         Roman   \n",
       "1         0.0    2013-03-06       Grumeti        1399       GRUMETI   \n",
       "2        25.0    2013-02-25  Lottery Club         686  world vision   \n",
       "3         0.0    2013-01-28        Unicef         263        Unicef   \n",
       "4         0.0    2011-07-13   Action In A           0       Artisan   \n",
       "\n",
       "   longitude   latitude              wpt_name                    basin  \\\n",
       "0  34.938093  -9.856322                  none               Lake Nyasa   \n",
       "1  34.698766  -2.147466              Zahanati            Lake Victoria   \n",
       "2  37.460664  -3.821329           Kwa Mahundi                  Pangani   \n",
       "3  38.486161 -11.155298  Zahanati Ya Nanyumbu  Ruvuma / Southern Coast   \n",
       "4  31.130847  -1.825359               Shuleni            Lake Victoria   \n",
       "\n",
       "   subvillage  ... management_group         payment  water_quality  \\\n",
       "0    Mnyusi B  ...       user-group    pay annually           soft   \n",
       "1     Nyamara  ...       user-group       never pay           soft   \n",
       "2     Majengo  ...       user-group  pay per bucket           soft   \n",
       "3  Mahakamani  ...       user-group       never pay           soft   \n",
       "4  Kyanyamisa  ...            other       never pay           soft   \n",
       "\n",
       "       quantity           source_type  source_class  \\\n",
       "0        enough                spring   groundwater   \n",
       "1  insufficient  rainwater harvesting       surface   \n",
       "2        enough                   dam       surface   \n",
       "3           dry              borehole   groundwater   \n",
       "4      seasonal  rainwater harvesting       surface   \n",
       "\n",
       "               waterpoint_type    status_group year_recorded  age  \n",
       "0           communal standpipe      functional          2011   12  \n",
       "1           communal standpipe      functional          2013    3  \n",
       "2  communal standpipe multiple      functional          2013    4  \n",
       "3  communal standpipe multiple  non functional          2013   27  \n",
       "4           communal standpipe      functional          2011   11  \n",
       "\n",
       "[5 rows x 32 columns]"
      ]
     },
     "execution_count": 47,
     "metadata": {},
     "output_type": "execute_result"
    }
   ],
   "source": [
    "training_set.head()"
   ]
  },
  {
   "cell_type": "markdown",
   "metadata": {},
   "source": [
    "We could drop `date_recorded`, `recorded_by` and `year_recorded` given as we now have `age`. We will keep `construction_year` as we might still get some insightss from this."
   ]
  },
  {
   "cell_type": "code",
   "execution_count": 48,
   "metadata": {},
   "outputs": [],
   "source": [
    "training_set.drop(columns = ['date_recorded', 'recorded_by', 'year_recorded'], inplace = True)"
   ]
  },
  {
   "cell_type": "markdown",
   "metadata": {},
   "source": [
    "# 3. Exploratory Data Analysis"
   ]
  },
  {
   "cell_type": "markdown",
   "metadata": {},
   "source": [
    "## Comparing the number of non-functional vs functional needs repair waterpoints"
   ]
  },
  {
   "cell_type": "code",
   "execution_count": 49,
   "metadata": {},
   "outputs": [
    {
     "data": {
      "text/plain": [
       "Text(0, 0.5, 'Distribution Percentage')"
      ]
     },
     "execution_count": 49,
     "metadata": {},
     "output_type": "execute_result"
    },
    {
     "data": {
      "image/png": "[encoded data removed]",
      "text/plain": [
       "<Figure size 792x288 with 1 Axes>"
      ]
     },
     "metadata": {
      "needs_background": "light"
     },
     "output_type": "display_data"
    }
   ],
   "source": [
    "\n",
    "status = pd.DataFrame(training_set['status_group'].value_counts(normalize = True)*100)\n",
    "fig, ax = plt.subplots(figsize = (11,4))\n",
    "ax.bar(x = status.index, height = status['status_group'])\n",
    "ax.set_title('Distribution of well status')\n",
    "ax.set_xlabel('Well Status')\n",
    "ax.set_ylabel('Distribution Percentage')\n"
   ]
  },
  {
   "cell_type": "markdown",
   "metadata": {},
   "source": [
    "## Effect of type of water sources on well functionality"
   ]
  },
  {
   "cell_type": "code",
   "execution_count": 50,
   "metadata": {},
   "outputs": [
    {
     "data": {
      "text/plain": [
       "Text(0.5, 0, 'Water Status')"
      ]
     },
     "execution_count": 50,
     "metadata": {},
     "output_type": "execute_result"
    },
    {
     "data": {
      "image/png": "[encoded data removed]",
      "text/plain": [
       "<Figure size 792x576 with 1 Axes>"
      ]
     },
     "metadata": {
      "needs_background": "light"
     },
     "output_type": "display_data"
    }
   ],
   "source": [
    "\n",
    "fig, ax = plt.subplots(figsize = (11,8))\n",
    "\n",
    "sns.countplot(data = training_set, y = 'source_type', hue = 'status_group')\n",
    "\n",
    "ax.set_title('Well Status vs Water Source')\n",
    "ax.set_ylabel('Water Source')\n",
    "ax.set_xlabel('Water Status')"
   ]
  },
  {
   "cell_type": "markdown",
   "metadata": {},
   "source": [
    "Comparing the functional to the non-functional wells ratio, boreholes and shallow wells have the highest number of non-functional wells in comparisonnto the functional ones."
   ]
  },
  {
   "cell_type": "markdown",
   "metadata": {},
   "source": [
    "## Effect of extraction mechanism on well functionality"
   ]
  },
  {
   "cell_type": "code",
   "execution_count": 51,
   "metadata": {},
   "outputs": [
    {
     "data": {
      "text/plain": [
       "Text(0, 0.5, 'Extraction Mechanism')"
      ]
     },
     "execution_count": 51,
     "metadata": {},
     "output_type": "execute_result"
    },
    {
     "data": {
      "image/png": "[encoded data removed]",
      "text/plain": [
       "<Figure size 864x576 with 1 Axes>"
      ]
     },
     "metadata": {
      "needs_background": "light"
     },
     "output_type": "display_data"
    }
   ],
   "source": [
    "fig, ax = plt.subplots(figsize = (12,8))\n",
    "sns.countplot(data = training_set, y= 'extraction_type_class', hue = 'status_group')\n",
    "ax.set_title('Well Status vs Extraction Mechanism Used')\n",
    "ax.set_ylabel('Extraction Mechanism')"
   ]
  },
  {
   "cell_type": "markdown",
   "metadata": {},
   "source": [
    "Motorpump has a higher number of nun-functional waterpoints in comparison to the functional ones. Other means of water extraction also have a higher number of nun-functional waterponts in comparison to the functional ones. From this countplot, we can also see that gravity and handpup are the most common extraction mechanism and they both have a high number of functional wells as well as nun-functional ones."
   ]
  },
  {
   "cell_type": "markdown",
   "metadata": {},
   "source": [
    "# 4. Modelling"
   ]
  },
  {
   "cell_type": "markdown",
   "metadata": {},
   "source": [
    "## Data Preprocessing"
   ]
  },
  {
   "cell_type": "code",
   "execution_count": 52,
   "metadata": {},
   "outputs": [
    {
     "data": {
      "text/html": [
       "<div>\n",
       "<style scoped>\n",
       "    .dataframe tbody tr th:only-of-type {\n",
       "        vertical-align: middle;\n",
       "    }\n",
       "\n",
       "    .dataframe tbody tr th {\n",
       "        vertical-align: top;\n",
       "    }\n",
       "\n",
       "    .dataframe thead th {\n",
       "        text-align: right;\n",
       "    }\n",
       "</style>\n",
       "<table border=\"1\" class=\"dataframe\">\n",
       "  <thead>\n",
       "    <tr style=\"text-align: right;\">\n",
       "      <th></th>\n",
       "      <th>amount_tsh</th>\n",
       "      <th>funder</th>\n",
       "      <th>gps_height</th>\n",
       "      <th>installer</th>\n",
       "      <th>longitude</th>\n",
       "      <th>latitude</th>\n",
       "      <th>wpt_name</th>\n",
       "      <th>basin</th>\n",
       "      <th>subvillage</th>\n",
       "      <th>region</th>\n",
       "      <th>...</th>\n",
       "      <th>management</th>\n",
       "      <th>management_group</th>\n",
       "      <th>payment</th>\n",
       "      <th>water_quality</th>\n",
       "      <th>quantity</th>\n",
       "      <th>source_type</th>\n",
       "      <th>source_class</th>\n",
       "      <th>waterpoint_type</th>\n",
       "      <th>status_group</th>\n",
       "      <th>age</th>\n",
       "    </tr>\n",
       "  </thead>\n",
       "  <tbody>\n",
       "    <tr>\n",
       "      <th>0</th>\n",
       "      <td>6000.0</td>\n",
       "      <td>Roman</td>\n",
       "      <td>1390</td>\n",
       "      <td>Roman</td>\n",
       "      <td>34.938093</td>\n",
       "      <td>-9.856322</td>\n",
       "      <td>none</td>\n",
       "      <td>Lake Nyasa</td>\n",
       "      <td>Mnyusi B</td>\n",
       "      <td>Iringa</td>\n",
       "      <td>...</td>\n",
       "      <td>vwc</td>\n",
       "      <td>user-group</td>\n",
       "      <td>pay annually</td>\n",
       "      <td>soft</td>\n",
       "      <td>enough</td>\n",
       "      <td>spring</td>\n",
       "      <td>groundwater</td>\n",
       "      <td>communal standpipe</td>\n",
       "      <td>functional</td>\n",
       "      <td>12</td>\n",
       "    </tr>\n",
       "    <tr>\n",
       "      <th>1</th>\n",
       "      <td>0.0</td>\n",
       "      <td>Grumeti</td>\n",
       "      <td>1399</td>\n",
       "      <td>GRUMETI</td>\n",
       "      <td>34.698766</td>\n",
       "      <td>-2.147466</td>\n",
       "      <td>Zahanati</td>\n",
       "      <td>Lake Victoria</td>\n",
       "      <td>Nyamara</td>\n",
       "      <td>Mara</td>\n",
       "      <td>...</td>\n",
       "      <td>wug</td>\n",
       "      <td>user-group</td>\n",
       "      <td>never pay</td>\n",
       "      <td>soft</td>\n",
       "      <td>insufficient</td>\n",
       "      <td>rainwater harvesting</td>\n",
       "      <td>surface</td>\n",
       "      <td>communal standpipe</td>\n",
       "      <td>functional</td>\n",
       "      <td>3</td>\n",
       "    </tr>\n",
       "    <tr>\n",
       "      <th>2</th>\n",
       "      <td>25.0</td>\n",
       "      <td>Lottery Club</td>\n",
       "      <td>686</td>\n",
       "      <td>world vision</td>\n",
       "      <td>37.460664</td>\n",
       "      <td>-3.821329</td>\n",
       "      <td>Kwa Mahundi</td>\n",
       "      <td>Pangani</td>\n",
       "      <td>Majengo</td>\n",
       "      <td>Manyara</td>\n",
       "      <td>...</td>\n",
       "      <td>vwc</td>\n",
       "      <td>user-group</td>\n",
       "      <td>pay per bucket</td>\n",
       "      <td>soft</td>\n",
       "      <td>enough</td>\n",
       "      <td>dam</td>\n",
       "      <td>surface</td>\n",
       "      <td>communal standpipe multiple</td>\n",
       "      <td>functional</td>\n",
       "      <td>4</td>\n",
       "    </tr>\n",
       "    <tr>\n",
       "      <th>3</th>\n",
       "      <td>0.0</td>\n",
       "      <td>Unicef</td>\n",
       "      <td>263</td>\n",
       "      <td>Unicef</td>\n",
       "      <td>38.486161</td>\n",
       "      <td>-11.155298</td>\n",
       "      <td>Zahanati Ya Nanyumbu</td>\n",
       "      <td>Ruvuma / Southern Coast</td>\n",
       "      <td>Mahakamani</td>\n",
       "      <td>Mtwara</td>\n",
       "      <td>...</td>\n",
       "      <td>vwc</td>\n",
       "      <td>user-group</td>\n",
       "      <td>never pay</td>\n",
       "      <td>soft</td>\n",
       "      <td>dry</td>\n",
       "      <td>borehole</td>\n",
       "      <td>groundwater</td>\n",
       "      <td>communal standpipe multiple</td>\n",
       "      <td>non functional</td>\n",
       "      <td>27</td>\n",
       "    </tr>\n",
       "    <tr>\n",
       "      <th>4</th>\n",
       "      <td>0.0</td>\n",
       "      <td>Action In A</td>\n",
       "      <td>0</td>\n",
       "      <td>Artisan</td>\n",
       "      <td>31.130847</td>\n",
       "      <td>-1.825359</td>\n",
       "      <td>Shuleni</td>\n",
       "      <td>Lake Victoria</td>\n",
       "      <td>Kyanyamisa</td>\n",
       "      <td>Kagera</td>\n",
       "      <td>...</td>\n",
       "      <td>other</td>\n",
       "      <td>other</td>\n",
       "      <td>never pay</td>\n",
       "      <td>soft</td>\n",
       "      <td>seasonal</td>\n",
       "      <td>rainwater harvesting</td>\n",
       "      <td>surface</td>\n",
       "      <td>communal standpipe</td>\n",
       "      <td>functional</td>\n",
       "      <td>11</td>\n",
       "    </tr>\n",
       "  </tbody>\n",
       "</table>\n",
       "<p>5 rows × 29 columns</p>\n",
       "</div>"
      ],
      "text/plain": [
       "   amount_tsh        funder  gps_height     installer  longitude   latitude  \\\n",
       "0      6000.0         Roman        1390         Roman  34.938093  -9.856322   \n",
       "1         0.0       Grumeti        1399       GRUMETI  34.698766  -2.147466   \n",
       "2        25.0  Lottery Club         686  world vision  37.460664  -3.821329   \n",
       "3         0.0        Unicef         263        Unicef  38.486161 -11.155298   \n",
       "4         0.0   Action In A           0       Artisan  31.130847  -1.825359   \n",
       "\n",
       "               wpt_name                    basin  subvillage   region  ...  \\\n",
       "0                  none               Lake Nyasa    Mnyusi B   Iringa  ...   \n",
       "1              Zahanati            Lake Victoria     Nyamara     Mara  ...   \n",
       "2           Kwa Mahundi                  Pangani     Majengo  Manyara  ...   \n",
       "3  Zahanati Ya Nanyumbu  Ruvuma / Southern Coast  Mahakamani   Mtwara  ...   \n",
       "4               Shuleni            Lake Victoria  Kyanyamisa   Kagera  ...   \n",
       "\n",
       "   management  management_group         payment water_quality      quantity  \\\n",
       "0         vwc        user-group    pay annually          soft        enough   \n",
       "1         wug        user-group       never pay          soft  insufficient   \n",
       "2         vwc        user-group  pay per bucket          soft        enough   \n",
       "3         vwc        user-group       never pay          soft           dry   \n",
       "4       other             other       never pay          soft      seasonal   \n",
       "\n",
       "            source_type source_class              waterpoint_type  \\\n",
       "0                spring  groundwater           communal standpipe   \n",
       "1  rainwater harvesting      surface           communal standpipe   \n",
       "2                   dam      surface  communal standpipe multiple   \n",
       "3              borehole  groundwater  communal standpipe multiple   \n",
       "4  rainwater harvesting      surface           communal standpipe   \n",
       "\n",
       "     status_group age  \n",
       "0      functional  12  \n",
       "1      functional   3  \n",
       "2      functional   4  \n",
       "3  non functional  27  \n",
       "4      functional  11  \n",
       "\n",
       "[5 rows x 29 columns]"
      ]
     },
     "execution_count": 52,
     "metadata": {},
     "output_type": "execute_result"
    }
   ],
   "source": [
    "training_set.head()"
   ]
  },
  {
   "cell_type": "code",
   "execution_count": 53,
   "metadata": {},
   "outputs": [],
   "source": [
    "#Making relevant Imports \n",
    "\n",
    "from sklearn.model_selection import train_test_split,GridSearchCV, cross_val_score, RandomizedSearchCV\n",
    "from sklearn.preprocessing import StandardScaler\n",
    "from sklearn.preprocessing import LabelEncoder\n",
    "from sklearn.ensemble import RandomForestClassifier, AdaBoostClassifier\n",
    "from sklearn.tree import DecisionTreeClassifier\n",
    "from sklearn import svm\n",
    "from sklearn.neighbors import KNeighborsClassifier\n",
    "from xgboost import XGBClassifier\n",
    "from sklearn.metrics import accuracy_score, roc_auc_score, plot_confusion_matrix, roc_curve, balanced_accuracy_score, classification_report\n",
    "from imblearn.over_sampling import SMOTE\n",
    "from imblearn.combine import SMOTETomek"
   ]
  },
  {
   "cell_type": "markdown",
   "metadata": {},
   "source": [
    "### Dropping columns"
   ]
  },
  {
   "cell_type": "code",
   "execution_count": 54,
   "metadata": {},
   "outputs": [],
   "source": [
    "#Dropping irrelevant columns\n",
    "training_set.drop(columns = ['management_group','wpt_name','lga','subvillage', 'basin', 'region_code', 'ward', 'district_code','funder'], inplace = True)"
   ]
  },
  {
   "cell_type": "markdown",
   "metadata": {},
   "source": [
    "### Categorical variables and Numerical variables"
   ]
  },
  {
   "cell_type": "code",
   "execution_count": 55,
   "metadata": {},
   "outputs": [],
   "source": [
    "categorical = ['installer','public_meeting', 'permit', 'region', 'extraction_type_class','construction_year', 'management', 'payment', 'water_quality', 'quantity', 'source_type', 'source_class', 'waterpoint_type']\n",
    "numerical= ['amount_tsh', 'gps_height', 'longitude', 'latitude',  'population', 'age']\n",
    "\n"
   ]
  },
  {
   "cell_type": "markdown",
   "metadata": {},
   "source": [
    "### Splitting the data into test and train data"
   ]
  },
  {
   "cell_type": "code",
   "execution_count": 56,
   "metadata": {},
   "outputs": [],
   "source": [
    "#Identifying the targets and features\n",
    "\n",
    "features = training_set.drop(columns = 'status_group')\n",
    "target = training_set['status_group']"
   ]
  },
  {
   "cell_type": "code",
   "execution_count": 57,
   "metadata": {},
   "outputs": [],
   "source": [
    "\n",
    "X_train, X_test, y_train, y_test = train_test_split(features, target, test_size=0.3, stratify = target, random_state= 42)"
   ]
  },
  {
   "cell_type": "markdown",
   "metadata": {},
   "source": [
    "### Scaling numerical columns"
   ]
  },
  {
   "cell_type": "code",
   "execution_count": 58,
   "metadata": {},
   "outputs": [],
   "source": [
    "#Instatiating the scaler\n",
    "scaler = StandardScaler()\n",
    "\n",
    "#Fitting and transforming the train data\n",
    "scaled_X_train = scaler.fit_transform(X_train[numerical])\n",
    "\n",
    "#Fitting and transforming the train data\n",
    "scaled_X_test= scaler.fit_transform(X_test[numerical])\n",
    "\n",
    "# converting the results to a dataframe\n",
    "\n",
    "scaled_df_train = pd.DataFrame(data = scaled_X_train, columns = X_train[numerical].columns, index = X_train.index)\n",
    "scaled_df_test = pd.DataFrame(data = scaled_X_test, columns = X_test[numerical].columns, index = X_test.index)"
   ]
  },
  {
   "cell_type": "markdown",
   "metadata": {},
   "source": [
    "### Label Encoding the Categorical Varibles"
   ]
  },
  {
   "cell_type": "code",
   "execution_count": 59,
   "metadata": {},
   "outputs": [
    {
     "data": {
      "text/html": [
       "<div>\n",
       "<style scoped>\n",
       "    .dataframe tbody tr th:only-of-type {\n",
       "        vertical-align: middle;\n",
       "    }\n",
       "\n",
       "    .dataframe tbody tr th {\n",
       "        vertical-align: top;\n",
       "    }\n",
       "\n",
       "    .dataframe thead th {\n",
       "        text-align: right;\n",
       "    }\n",
       "</style>\n",
       "<table border=\"1\" class=\"dataframe\">\n",
       "  <thead>\n",
       "    <tr style=\"text-align: right;\">\n",
       "      <th></th>\n",
       "      <th>public_meeting_cat</th>\n",
       "      <th>installer_cat</th>\n",
       "      <th>permit_cat</th>\n",
       "      <th>region_cat</th>\n",
       "      <th>extraction_type_class_cat</th>\n",
       "      <th>construction_year_cat</th>\n",
       "      <th>management_cat</th>\n",
       "      <th>payment_cat</th>\n",
       "      <th>water_quality_cat</th>\n",
       "      <th>quantity_cat</th>\n",
       "      <th>source_type_cat</th>\n",
       "      <th>source_class_cat</th>\n",
       "      <th>waterpoint_type_cat</th>\n",
       "    </tr>\n",
       "  </thead>\n",
       "  <tbody>\n",
       "    <tr>\n",
       "      <th>29678</th>\n",
       "      <td>0</td>\n",
       "      <td>826</td>\n",
       "      <td>1</td>\n",
       "      <td>0</td>\n",
       "      <td>3</td>\n",
       "      <td>50</td>\n",
       "      <td>3</td>\n",
       "      <td>0</td>\n",
       "      <td>6</td>\n",
       "      <td>3</td>\n",
       "      <td>3</td>\n",
       "      <td>1</td>\n",
       "      <td>1</td>\n",
       "    </tr>\n",
       "    <tr>\n",
       "      <th>33845</th>\n",
       "      <td>0</td>\n",
       "      <td>1578</td>\n",
       "      <td>2</td>\n",
       "      <td>14</td>\n",
       "      <td>5</td>\n",
       "      <td>44</td>\n",
       "      <td>4</td>\n",
       "      <td>4</td>\n",
       "      <td>6</td>\n",
       "      <td>1</td>\n",
       "      <td>4</td>\n",
       "      <td>1</td>\n",
       "      <td>1</td>\n",
       "    </tr>\n",
       "    <tr>\n",
       "      <th>20047</th>\n",
       "      <td>2</td>\n",
       "      <td>637</td>\n",
       "      <td>0</td>\n",
       "      <td>10</td>\n",
       "      <td>1</td>\n",
       "      <td>40</td>\n",
       "      <td>7</td>\n",
       "      <td>5</td>\n",
       "      <td>6</td>\n",
       "      <td>1</td>\n",
       "      <td>5</td>\n",
       "      <td>0</td>\n",
       "      <td>4</td>\n",
       "    </tr>\n",
       "    <tr>\n",
       "      <th>52487</th>\n",
       "      <td>2</td>\n",
       "      <td>10</td>\n",
       "      <td>2</td>\n",
       "      <td>3</td>\n",
       "      <td>0</td>\n",
       "      <td>48</td>\n",
       "      <td>10</td>\n",
       "      <td>3</td>\n",
       "      <td>6</td>\n",
       "      <td>1</td>\n",
       "      <td>6</td>\n",
       "      <td>0</td>\n",
       "      <td>1</td>\n",
       "    </tr>\n",
       "    <tr>\n",
       "      <th>40918</th>\n",
       "      <td>2</td>\n",
       "      <td>298</td>\n",
       "      <td>2</td>\n",
       "      <td>16</td>\n",
       "      <td>0</td>\n",
       "      <td>51</td>\n",
       "      <td>7</td>\n",
       "      <td>3</td>\n",
       "      <td>6</td>\n",
       "      <td>1</td>\n",
       "      <td>4</td>\n",
       "      <td>1</td>\n",
       "      <td>1</td>\n",
       "    </tr>\n",
       "    <tr>\n",
       "      <th>...</th>\n",
       "      <td>...</td>\n",
       "      <td>...</td>\n",
       "      <td>...</td>\n",
       "      <td>...</td>\n",
       "      <td>...</td>\n",
       "      <td>...</td>\n",
       "      <td>...</td>\n",
       "      <td>...</td>\n",
       "      <td>...</td>\n",
       "      <td>...</td>\n",
       "      <td>...</td>\n",
       "      <td>...</td>\n",
       "      <td>...</td>\n",
       "    </tr>\n",
       "    <tr>\n",
       "      <th>11585</th>\n",
       "      <td>2</td>\n",
       "      <td>298</td>\n",
       "      <td>2</td>\n",
       "      <td>5</td>\n",
       "      <td>0</td>\n",
       "      <td>46</td>\n",
       "      <td>9</td>\n",
       "      <td>0</td>\n",
       "      <td>6</td>\n",
       "      <td>2</td>\n",
       "      <td>4</td>\n",
       "      <td>1</td>\n",
       "      <td>1</td>\n",
       "    </tr>\n",
       "    <tr>\n",
       "      <th>5779</th>\n",
       "      <td>2</td>\n",
       "      <td>551</td>\n",
       "      <td>0</td>\n",
       "      <td>2</td>\n",
       "      <td>5</td>\n",
       "      <td>40</td>\n",
       "      <td>7</td>\n",
       "      <td>4</td>\n",
       "      <td>4</td>\n",
       "      <td>0</td>\n",
       "      <td>0</td>\n",
       "      <td>0</td>\n",
       "      <td>2</td>\n",
       "    </tr>\n",
       "    <tr>\n",
       "      <th>42760</th>\n",
       "      <td>2</td>\n",
       "      <td>1187</td>\n",
       "      <td>2</td>\n",
       "      <td>11</td>\n",
       "      <td>0</td>\n",
       "      <td>25</td>\n",
       "      <td>7</td>\n",
       "      <td>3</td>\n",
       "      <td>6</td>\n",
       "      <td>1</td>\n",
       "      <td>4</td>\n",
       "      <td>1</td>\n",
       "      <td>1</td>\n",
       "    </tr>\n",
       "    <tr>\n",
       "      <th>8131</th>\n",
       "      <td>2</td>\n",
       "      <td>298</td>\n",
       "      <td>0</td>\n",
       "      <td>20</td>\n",
       "      <td>0</td>\n",
       "      <td>48</td>\n",
       "      <td>7</td>\n",
       "      <td>0</td>\n",
       "      <td>4</td>\n",
       "      <td>2</td>\n",
       "      <td>6</td>\n",
       "      <td>0</td>\n",
       "      <td>1</td>\n",
       "    </tr>\n",
       "    <tr>\n",
       "      <th>30093</th>\n",
       "      <td>2</td>\n",
       "      <td>1694</td>\n",
       "      <td>2</td>\n",
       "      <td>10</td>\n",
       "      <td>0</td>\n",
       "      <td>40</td>\n",
       "      <td>8</td>\n",
       "      <td>3</td>\n",
       "      <td>6</td>\n",
       "      <td>1</td>\n",
       "      <td>6</td>\n",
       "      <td>0</td>\n",
       "      <td>1</td>\n",
       "    </tr>\n",
       "  </tbody>\n",
       "</table>\n",
       "<p>41573 rows × 13 columns</p>\n",
       "</div>"
      ],
      "text/plain": [
       "       public_meeting_cat  installer_cat  permit_cat  region_cat  \\\n",
       "29678                   0            826           1           0   \n",
       "33845                   0           1578           2          14   \n",
       "20047                   2            637           0          10   \n",
       "52487                   2             10           2           3   \n",
       "40918                   2            298           2          16   \n",
       "...                   ...            ...         ...         ...   \n",
       "11585                   2            298           2           5   \n",
       "5779                    2            551           0           2   \n",
       "42760                   2           1187           2          11   \n",
       "8131                    2            298           0          20   \n",
       "30093                   2           1694           2          10   \n",
       "\n",
       "       extraction_type_class_cat  construction_year_cat  management_cat  \\\n",
       "29678                          3                     50               3   \n",
       "33845                          5                     44               4   \n",
       "20047                          1                     40               7   \n",
       "52487                          0                     48              10   \n",
       "40918                          0                     51               7   \n",
       "...                          ...                    ...             ...   \n",
       "11585                          0                     46               9   \n",
       "5779                           5                     40               7   \n",
       "42760                          0                     25               7   \n",
       "8131                           0                     48               7   \n",
       "30093                          0                     40               8   \n",
       "\n",
       "       payment_cat  water_quality_cat  quantity_cat  source_type_cat  \\\n",
       "29678            0                  6             3                3   \n",
       "33845            4                  6             1                4   \n",
       "20047            5                  6             1                5   \n",
       "52487            3                  6             1                6   \n",
       "40918            3                  6             1                4   \n",
       "...            ...                ...           ...              ...   \n",
       "11585            0                  6             2                4   \n",
       "5779             4                  4             0                0   \n",
       "42760            3                  6             1                4   \n",
       "8131             0                  4             2                6   \n",
       "30093            3                  6             1                6   \n",
       "\n",
       "       source_class_cat  waterpoint_type_cat  \n",
       "29678                 1                    1  \n",
       "33845                 1                    1  \n",
       "20047                 0                    4  \n",
       "52487                 0                    1  \n",
       "40918                 1                    1  \n",
       "...                 ...                  ...  \n",
       "11585                 1                    1  \n",
       "5779                  0                    2  \n",
       "42760                 1                    1  \n",
       "8131                  0                    1  \n",
       "30093                 0                    1  \n",
       "\n",
       "[41573 rows x 13 columns]"
      ]
     },
     "execution_count": 59,
     "metadata": {},
     "output_type": "execute_result"
    }
   ],
   "source": [
    "#Creating a dataframe with only the categorical columns\n",
    "categories_df=pd.DataFrame(data=X_train,columns=X_train[categorical].columns,index = X_train.index)\n",
    "\n",
    "#Instantiating label encoder\n",
    "labelencoder = LabelEncoder()\n",
    "\n",
    "#Changing some columns to correct datatype \n",
    "categories_df['permit']=categories_df['permit'].astype(str)\n",
    "categories_df['public_meeting']=categories_df['public_meeting'].astype(str)\n",
    "\n",
    "#Transforming columns to have labels\n",
    "categories_df['public_meeting_cat']=labelencoder.fit_transform(categories_df['public_meeting'])\n",
    "categories_df['installer_cat']=labelencoder.fit_transform(categories_df['installer'])\n",
    "categories_df['permit_cat']=labelencoder.fit_transform(categories_df['permit'])\n",
    "categories_df['region_cat']=labelencoder.fit_transform(categories_df['region'])\n",
    "categories_df['extraction_type_class_cat']=labelencoder.fit_transform(categories_df['extraction_type_class'])\n",
    "categories_df['construction_year_cat']=labelencoder.fit_transform(categories_df['construction_year'])\n",
    "categories_df['management_cat']=labelencoder.fit_transform(categories_df['management'])\n",
    "categories_df['payment_cat']=labelencoder.fit_transform(categories_df['payment'])\n",
    "categories_df['water_quality_cat']=labelencoder.fit_transform(categories_df['water_quality'])\n",
    "categories_df['quantity_cat']=labelencoder.fit_transform(categories_df['quantity'])\n",
    "categories_df['source_type_cat']=labelencoder.fit_transform(categories_df['source_type'])\n",
    "categories_df['source_class_cat']=labelencoder.fit_transform(categories_df['source_class'])\n",
    "categories_df['waterpoint_type_cat']=labelencoder.fit_transform(categories_df['waterpoint_type'])\n",
    "\n",
    "#Dropping the original columns\n",
    "categories_df.drop(columns=['installer','public_meeting', 'permit', 'region', 'extraction_type_class','construction_year', 'management', 'payment', 'water_quality', 'quantity', 'source_type', 'source_class', 'waterpoint_type'],inplace=True)\n",
    "categories_df"
   ]
  },
  {
   "cell_type": "code",
   "execution_count": 60,
   "metadata": {},
   "outputs": [],
   "source": [
    "categories_df1=pd.DataFrame(data=X_test,columns=X_test[categorical].columns,index = X_test.index)\n",
    "\n",
    "#Instantiating label encoder\n",
    "labelencoder = LabelEncoder()\n",
    "\n",
    "#Changing some columns to correct datatype \n",
    "categories_df1['permit']=categories_df1['permit'].astype(str)\n",
    "categories_df1['public_meeting']=categories_df1['public_meeting'].astype(str)\n",
    "\n",
    "#Transforming columns to have labels\n",
    "categories_df1['public_meeting_cat']=labelencoder.fit_transform(categories_df1['public_meeting'])\n",
    "categories_df1['installer_cat']=labelencoder.fit_transform(categories_df1['installer'])\n",
    "categories_df1['permit_cat']=labelencoder.fit_transform(categories_df1['permit'])\n",
    "categories_df1['region_cat']=labelencoder.fit_transform(categories_df1['region'])\n",
    "categories_df1['extraction_type_class_cat']=labelencoder.fit_transform(categories_df1['extraction_type_class'])\n",
    "categories_df1['construction_year_cat']=labelencoder.fit_transform(categories_df1['construction_year'])\n",
    "categories_df1['management_cat']=labelencoder.fit_transform(categories_df1['management'])\n",
    "categories_df1['payment_cat']=labelencoder.fit_transform(categories_df1['payment'])\n",
    "categories_df1['water_quality_cat']=labelencoder.fit_transform(categories_df1['water_quality'])\n",
    "categories_df1['quantity_cat']=labelencoder.fit_transform(categories_df1['quantity'])\n",
    "categories_df1['source_type_cat']=labelencoder.fit_transform(categories_df1['source_type'])\n",
    "categories_df1['source_class_cat']=labelencoder.fit_transform(categories_df1['source_class'])\n",
    "categories_df1['waterpoint_type_cat']=labelencoder.fit_transform(categories_df1['waterpoint_type'])\n",
    "\n",
    "#Dropping the original columns\n",
    "categories_df1.drop(columns=['installer','public_meeting', 'permit', 'region', 'extraction_type_class','construction_year', 'management', 'payment', 'water_quality', 'quantity', 'source_type', 'source_class', 'waterpoint_type'],inplace=True)\n"
   ]
  },
  {
   "cell_type": "code",
   "execution_count": 61,
   "metadata": {},
   "outputs": [],
   "source": [
    "#Merging the Dataframes \n",
    "preprocessed_train = pd.merge(scaled_df_train, categories_df, left_index=True, right_index=True)\n",
    "preprocessed_test = pd.merge(scaled_df_test, categories_df1, left_index=True, right_index=True)"
   ]
  },
  {
   "cell_type": "code",
   "execution_count": 62,
   "metadata": {},
   "outputs": [
    {
     "name": "stdout",
     "output_type": "stream",
     "text": [
      "(41573, 19)\n",
      "(17818, 19)\n",
      "(41573,)\n",
      "(17818,)\n"
     ]
    }
   ],
   "source": [
    "#Checking the shape of the data\n",
    "print(preprocessed_train.shape)\n",
    "print(preprocessed_test.shape)\n",
    "print(y_train.shape)\n",
    "print(y_test.shape)"
   ]
  },
  {
   "cell_type": "markdown",
   "metadata": {},
   "source": [
    "Given as the data is now preprocessed, It is ready for modelling. In this problem, we are going to use:\n",
    "\n",
    "- Decision Trees\n",
    "- K-Nearest Neighbors \n",
    "- Random Forests\n"
   ]
  },
  {
   "cell_type": "markdown",
   "metadata": {},
   "source": [
    "## Decision Trees \n"
   ]
  },
  {
   "cell_type": "code",
   "execution_count": 63,
   "metadata": {},
   "outputs": [
    {
     "data": {
      "text/plain": [
       "DecisionTreeClassifier(random_state=42)"
      ]
     },
     "execution_count": 63,
     "metadata": {},
     "output_type": "execute_result"
    }
   ],
   "source": [
    "#Instantaiting the model\n",
    "baseline = DecisionTreeClassifier(random_state=42)\n",
    "#Fitting the model\n",
    "baseline.fit(preprocessed_train, y_train)"
   ]
  },
  {
   "cell_type": "code",
   "execution_count": 64,
   "metadata": {},
   "outputs": [],
   "source": [
    "#Function to evaluate model\n",
    "def model_eval(model, X_train, y_train, X_test, y_test):\n",
    "   \n",
    "    labels = ['functional', 'functional needs repair', 'non functional']\n",
    "    print(f'The training accuracy score is : {round(accuracy_score(y_train, model.predict(X_train)),3)}')\n",
    "    print(f'The validation accuracy score is : {round(accuracy_score(y_test, model.predict(X_test)), 3)}')\n",
    "    print('-------------------------------------------------')\n",
    "    print(f'The training balanced accuracy score is : {round(balanced_accuracy_score(y_train, model.predict(X_train)), 3)}')\n",
    "    print(f'The validation accuracy score is : {round(balanced_accuracy_score(y_test, model.predict(X_test)), 3)}')\n",
    "    print('.................................................')\n",
    "    print(classification_report(y_test, model.predict(X_test)))\n",
    "    print('--------------------------------------------------')\n",
    "    print(plot_confusion_matrix(estimator = model, X = X_test, y_true = y_test,cmap=plt.cm.Blues,xticks_rotation='vertical'))"
   ]
  },
  {
   "cell_type": "code",
   "execution_count": 65,
   "metadata": {},
   "outputs": [
    {
     "name": "stdout",
     "output_type": "stream",
     "text": [
      "The training accuracy score is : 0.996\n",
      "The validation accuracy score is : 0.677\n",
      "-------------------------------------------------\n",
      "The training balanced accuracy score is : 0.987\n",
      "The validation accuracy score is : 0.567\n",
      ".................................................\n",
      "                         precision    recall  f1-score   support\n",
      "\n",
      "             functional       0.75      0.70      0.72      9677\n",
      "functional needs repair       0.27      0.28      0.27      1295\n",
      "         non functional       0.66      0.72      0.69      6846\n",
      "\n",
      "               accuracy                           0.68     17818\n",
      "              macro avg       0.56      0.57      0.56     17818\n",
      "           weighted avg       0.68      0.68      0.68     17818\n",
      "\n",
      "--------------------------------------------------\n",
      "<sklearn.metrics._plot.confusion_matrix.ConfusionMatrixDisplay object at 0x00000137E3AD49D0>\n"
     ]
    },
    {
     "data": {
      "image/png": "[encoded data removed]",
      "text/plain": [
       "<Figure size 432x288 with 2 Axes>"
      ]
     },
     "metadata": {
      "needs_background": "light"
     },
     "output_type": "display_data"
    }
   ],
   "source": [
    "model_eval(baseline, preprocessed_train, y_train,preprocessed_test, y_test)"
   ]
  },
  {
   "cell_type": "markdown",
   "metadata": {},
   "source": [
    "This model is ovefitting. This is because there is a very high score on the training data and a very low one on the test data. To make this better, hypeparameter tuning is required. From the Exploratory Data Analysis,we know that there is a high class imbalance, so we also need to take care of this. This class imbalance is reflected in the low f1 score that functional needs repair has."
   ]
  },
  {
   "cell_type": "code",
   "execution_count": 66,
   "metadata": {},
   "outputs": [],
   "source": [
    "#specifying tuning parameters \n",
    "\n",
    "tuning_parameters= {\n",
    "            'criterion' : ['gini', 'entropy'],\n",
    "            'max_depth': [1,10,20],\n",
    "            'min_samples_leaf' : range(1,50),\n",
    "            'class_weight' : [None, 'balanced']\n",
    "        } "
   ]
  },
  {
   "cell_type": "code",
   "execution_count": 67,
   "metadata": {},
   "outputs": [],
   "source": [
    "#Instantiating GridSearchCV\n",
    "dt_grid_search = GridSearchCV(estimator = baseline, param_grid = tuning_parameters, cv = 5,  return_train_score = True)\n",
    "#Fitting\n",
    "dt_grid_search.fit(preprocessed_train, y_train)"
   ]
  },
  {
   "cell_type": "markdown",
   "metadata": {},
   "source": [
    "The grid Search Cv took way too long to run. RandomizedSearchCv will be used in the other models."
   ]
  },
  {
   "cell_type": "code",
   "execution_count": 68,
   "metadata": {},
   "outputs": [],
   "source": [
    "grid_search_training_score = dt_grid_search.cv_results_['mean_train_score'].mean()\n",
    "\n",
    "# Mean test score\n",
    "grid_serch_validation_score = dt_grid_search.score(preprocessed_test, y_test)\n",
    "\n",
    "print(f\"Mean Training Score: {grid_search_training_score :.2%}\")\n",
    "print(f\"Mean Validation Score: {grid_serch_validation_score :.2%}\")\n",
    "print(f\"Best Parameter Combination:{dt_grid_search.best_params_}\")"
   ]
  },
  {
   "cell_type": "code",
   "execution_count": 69,
   "metadata": {},
   "outputs": [
    {
     "data": {
      "text/plain": [
       "DecisionTreeClassifier(max_depth=20, min_samples_leaf=7)"
      ]
     },
     "execution_count": 69,
     "metadata": {},
     "output_type": "execute_result"
    }
   ],
   "source": [
    "#Instantiating model with the best parameters\n",
    "\n",
    "tuned_dt= DecisionTreeClassifier(criterion='gini', max_depth=20,min_samples_leaf=7,class_weight=None)\n",
    "\n",
    "#Fitting model\n",
    "tuned_dt.fit(preprocessed_train, y_train)"
   ]
  },
  {
   "cell_type": "code",
   "execution_count": 70,
   "metadata": {},
   "outputs": [
    {
     "name": "stdout",
     "output_type": "stream",
     "text": [
      "The training accuracy score is : 0.839\n",
      "The validation accuracy score is : 0.717\n",
      "-------------------------------------------------\n",
      "The training balanced accuracy score is : 0.705\n",
      "The validation accuracy score is : 0.57\n",
      ".................................................\n",
      "                         precision    recall  f1-score   support\n",
      "\n",
      "             functional       0.74      0.80      0.77      9677\n",
      "functional needs repair       0.42      0.21      0.28      1295\n",
      "         non functional       0.70      0.70      0.70      6846\n",
      "\n",
      "               accuracy                           0.72     17818\n",
      "              macro avg       0.62      0.57      0.58     17818\n",
      "           weighted avg       0.71      0.72      0.71     17818\n",
      "\n",
      "--------------------------------------------------\n",
      "<sklearn.metrics._plot.confusion_matrix.ConfusionMatrixDisplay object at 0x00000137E4C2AD30>\n"
     ]
    },
    {
     "data": {
      "image/png": "[encoded data removed]",
      "text/plain": [
       "<Figure size 432x288 with 2 Axes>"
      ]
     },
     "metadata": {
      "needs_background": "light"
     },
     "output_type": "display_data"
    }
   ],
   "source": [
    "model_eval(tuned_dt, preprocessed_train, y_train,preprocessed_test, y_test)"
   ]
  },
  {
   "cell_type": "markdown",
   "metadata": {},
   "source": [
    "From this model the difference between the training score and the the validation score is slightly lower. Another metric that has improved is the overall accuracy, from a 0.68 to a 0.72. Class imbalance however, seems to be still a problem for this model, due to the low f1-score on functional needs repair. "
   ]
  },
  {
   "cell_type": "markdown",
   "metadata": {},
   "source": [
    "## K_Nearest Neighbors"
   ]
  },
  {
   "cell_type": "code",
   "execution_count": 71,
   "metadata": {},
   "outputs": [
    {
     "name": "stdout",
     "output_type": "stream",
     "text": [
      "The training accuracy score is : 0.816\n",
      "The validation accuracy score is : 0.534\n",
      "-------------------------------------------------\n",
      "The training balanced accuracy score is : 0.689\n",
      "The validation accuracy score is : 0.376\n",
      ".................................................\n",
      "                         precision    recall  f1-score   support\n",
      "\n",
      "             functional       0.60      0.65      0.62      9677\n",
      "functional needs repair       0.04      0.01      0.01      1295\n",
      "         non functional       0.46      0.47      0.47      6846\n",
      "\n",
      "               accuracy                           0.53     17818\n",
      "              macro avg       0.37      0.38      0.37     17818\n",
      "           weighted avg       0.50      0.53      0.52     17818\n",
      "\n",
      "--------------------------------------------------\n",
      "<sklearn.metrics._plot.confusion_matrix.ConfusionMatrixDisplay object at 0x00000137E4C30FD0>\n"
     ]
    },
    {
     "data": {
      "image/png": "[encoded data removed]",
      "text/plain": [
       "<Figure size 432x288 with 2 Axes>"
      ]
     },
     "metadata": {
      "needs_background": "light"
     },
     "output_type": "display_data"
    }
   ],
   "source": [
    "# insantiate a KNN classifier\n",
    "\n",
    "knn = KNeighborsClassifier()\n",
    "\n",
    "# fit the model with training data\n",
    "\n",
    "knn.fit(preprocessed_train, y_train)\n",
    "\n",
    "# evaluating the model\n",
    "model_eval(knn,preprocessed_train, y_train,preprocessed_test, y_test)"
   ]
  },
  {
   "cell_type": "markdown",
   "metadata": {},
   "source": [
    "The model is ovefitting as the training score is at 0.86 and the validation score at 0.53. The class imbalance problem also seems to affect it. We could tune the model to try and achieve better results."
   ]
  },
  {
   "cell_type": "code",
   "execution_count": 72,
   "metadata": {},
   "outputs": [],
   "source": [
    "#tuning parameters\n",
    "knn_grid = {'n_neighbors': [5, 7, 10],'metric' : ['minkowski', 'manhattan','euclidean'],'weights': ['uniform', 'distance']}"
   ]
  },
  {
   "cell_type": "code",
   "execution_count": 73,
   "metadata": {},
   "outputs": [],
   "source": [
    "# running RandomizedSearchCv\n",
    "\n",
    "knn_random = RandomizedSearchCV(estimator = knn, \n",
    "                               param_distributions = knn_grid, \n",
    "                               n_iter = 100, \n",
    "                               cv = 5,  \n",
    "                               random_state=42, \n",
    "                               n_jobs = -1)\n",
    "# Fit the random search model\n",
    "knn_random.fit(preprocessed_train, y_train)"
   ]
  },
  {
   "cell_type": "code",
   "execution_count": 74,
   "metadata": {},
   "outputs": [],
   "source": [
    "print(f\"Best Parameter Combination Found:{knn_random.best_params_}\")"
   ]
  },
  {
   "cell_type": "code",
   "execution_count": 75,
   "metadata": {},
   "outputs": [
    {
     "name": "stdout",
     "output_type": "stream",
     "text": [
      "The training accuracy score is : 0.996\n",
      "The validation accuracy score is : 0.58\n",
      "-------------------------------------------------\n",
      "The training balanced accuracy score is : 0.991\n",
      "The validation accuracy score is : 0.414\n",
      ".................................................\n",
      "                         precision    recall  f1-score   support\n",
      "\n",
      "             functional       0.62      0.70      0.66      9677\n",
      "functional needs repair       0.17      0.03      0.05      1295\n",
      "         non functional       0.52      0.51      0.52      6846\n",
      "\n",
      "               accuracy                           0.58     17818\n",
      "              macro avg       0.44      0.41      0.41     17818\n",
      "           weighted avg       0.55      0.58      0.56     17818\n",
      "\n",
      "--------------------------------------------------\n",
      "<sklearn.metrics._plot.confusion_matrix.ConfusionMatrixDisplay object at 0x00000137E6BA8760>\n"
     ]
    },
    {
     "data": {
      "image/png": "[encoded data removed]",
      "text/plain": [
       "<Figure size 432x288 with 2 Axes>"
      ]
     },
     "metadata": {
      "needs_background": "light"
     },
     "output_type": "display_data"
    }
   ],
   "source": [
    "# using the best parameters of knn\n",
    "\n",
    "tunned_knn = KNeighborsClassifier(weights = 'distance', n_neighbors = 10, metric = 'manhattan')\n",
    "\n",
    "# fit the model with training data\n",
    "\n",
    "tunned_knn.fit(preprocessed_train, y_train)\n",
    "\n",
    "# evaluating the model\n",
    "model_eval(tunned_knn,preprocessed_train, y_train, preprocessed_test, y_test)"
   ]
  },
  {
   "cell_type": "markdown",
   "metadata": {},
   "source": [
    "The model performed slightly better if accuracy is considered. However, overfitting and class imbalance are still major issues in this model."
   ]
  },
  {
   "cell_type": "markdown",
   "metadata": {},
   "source": [
    "## Random Forest"
   ]
  },
  {
   "cell_type": "code",
   "execution_count": 76,
   "metadata": {},
   "outputs": [
    {
     "name": "stdout",
     "output_type": "stream",
     "text": [
      "The training accuracy score is : 0.996\n",
      "The validation accuracy score is : 0.785\n",
      "-------------------------------------------------\n",
      "The training balanced accuracy score is : 0.988\n",
      "The validation accuracy score is : 0.622\n",
      ".................................................\n",
      "                         precision    recall  f1-score   support\n",
      "\n",
      "             functional       0.79      0.87      0.83      9677\n",
      "functional needs repair       0.57      0.22      0.32      1295\n",
      "         non functional       0.80      0.77      0.78      6846\n",
      "\n",
      "               accuracy                           0.79     17818\n",
      "              macro avg       0.72      0.62      0.64     17818\n",
      "           weighted avg       0.78      0.79      0.77     17818\n",
      "\n",
      "--------------------------------------------------\n",
      "<sklearn.metrics._plot.confusion_matrix.ConfusionMatrixDisplay object at 0x00000137E6BBDA00>\n"
     ]
    },
    {
     "data": {
      "image/png": "[encoded data removed]",
      "text/plain": [
       "<Figure size 432x288 with 2 Axes>"
      ]
     },
     "metadata": {
      "needs_background": "light"
     },
     "output_type": "display_data"
    }
   ],
   "source": [
    "# insantiate random forest classifier\n",
    "\n",
    "random_forest = RandomForestClassifier(random_state=42)\n",
    "\n",
    "# fit the model\n",
    "\n",
    "random_forest.fit(preprocessed_train, y_train)\n",
    "\n",
    "# evaluating the model\n",
    "\n",
    "model_eval(random_forest, preprocessed_train, y_train, preprocessed_test, y_test)"
   ]
  },
  {
   "cell_type": "markdown",
   "metadata": {},
   "source": [
    "The model is slightly overfitting. The accuracy is at 0.79. However, class imbalnce is still an issue. We could tune the hyperparameters to see if we could get better results."
   ]
  },
  {
   "cell_type": "code",
   "execution_count": 77,
   "metadata": {},
   "outputs": [],
   "source": [
    "random_forest_grid = {\n",
    "               'max_depth': [10, 20],\n",
    "               'min_samples_split': [5, 10],\n",
    "               'n_estimators': [500, 1000, 1500]}"
   ]
  },
  {
   "cell_type": "code",
   "execution_count": 78,
   "metadata": {},
   "outputs": [],
   "source": [
    "rf_random = RandomizedSearchCV(estimator = random_forest, \n",
    "                               param_distributions = random_forest_grid, \n",
    "                               n_iter = 20, \n",
    "                               cv = 5,  \n",
    "                               random_state=42, \n",
    "                               n_jobs = -1)\n",
    "# Fit the random search model\n",
    "rf_random.fit(preprocessed_train, y_train)"
   ]
  },
  {
   "cell_type": "code",
   "execution_count": 79,
   "metadata": {},
   "outputs": [],
   "source": [
    "#Getting the best parameters\n",
    "print(f\"Best Parameter Combination:{rf_random.best_params_}\")"
   ]
  },
  {
   "cell_type": "code",
   "execution_count": 80,
   "metadata": {},
   "outputs": [
    {
     "name": "stdout",
     "output_type": "stream",
     "text": [
      "The training accuracy score is : 0.909\n",
      "The validation accuracy score is : 0.786\n",
      "-------------------------------------------------\n",
      "The training balanced accuracy score is : 0.796\n",
      "The validation accuracy score is : 0.603\n",
      ".................................................\n",
      "                         precision    recall  f1-score   support\n",
      "\n",
      "             functional       0.77      0.90      0.83      9677\n",
      "functional needs repair       0.67      0.17      0.27      1295\n",
      "         non functional       0.82      0.74      0.78      6846\n",
      "\n",
      "               accuracy                           0.79     17818\n",
      "              macro avg       0.75      0.60      0.63     17818\n",
      "           weighted avg       0.78      0.79      0.77     17818\n",
      "\n",
      "--------------------------------------------------\n",
      "<sklearn.metrics._plot.confusion_matrix.ConfusionMatrixDisplay object at 0x00000137EEF00400>\n"
     ]
    },
    {
     "data": {
      "image/png": "[encoded data removed]",
      "text/plain": [
       "<Figure size 432x288 with 2 Axes>"
      ]
     },
     "metadata": {
      "needs_background": "light"
     },
     "output_type": "display_data"
    }
   ],
   "source": [
    "#Building the tuned model\n",
    "rf_tuned = RandomForestClassifier(n_estimators = 1500,min_samples_split=5,max_depth=20,random_state=42)\n",
    "\n",
    "#Fitting the model\n",
    "\n",
    "rf_tuned.fit(preprocessed_train, y_train)\n",
    "\n",
    "#Evaluation\n",
    "model_eval(rf_tuned, preprocessed_train, y_train,preprocessed_test, y_test)"
   ]
  },
  {
   "cell_type": "markdown",
   "metadata": {},
   "source": [
    "This model is doing better in comparison to the untuned random forest model. We could try using SMOTE to counter the class imbalance problem that we still have."
   ]
  },
  {
   "cell_type": "code",
   "execution_count": 81,
   "metadata": {},
   "outputs": [
    {
     "data": {
      "text/plain": [
       "functional needs repair    22578\n",
       "non functional             22578\n",
       "functional                 22578\n",
       "Name: status_group, dtype: int64"
      ]
     },
     "execution_count": 81,
     "metadata": {},
     "output_type": "execute_result"
    }
   ],
   "source": [
    "\n",
    "sm = SMOTE(random_state=42)\n",
    "# Fit and transform \n",
    "X_train_oversampled, y_train_oversampled = sm.fit_resample(preprocessed_train, y_train)\n",
    "\n",
    "y_train_oversampled.value_counts()"
   ]
  },
  {
   "cell_type": "code",
   "execution_count": 82,
   "metadata": {},
   "outputs": [],
   "source": [
    "#Random forest with smote\n",
    "\n",
    "random_forest_smote = RandomForestClassifier(n_estimators = 1500, min_samples_split=5, max_depth=20,random_state=42)\n",
    "\n",
    "\n",
    "random_forest_smote.fit(X_train_oversampled, y_train_oversampled)\n",
    "\n",
    "model_eval(random_forest_smote, X_train_oversampled, y_train_oversampled, preprocessed_test, y_test)\n"
   ]
  },
  {
   "cell_type": "markdown",
   "metadata": {},
   "source": [
    "In comparison to the previous model, this model does a better job in handling the class imbalance. The f1-score for functional needs repair has improved. We will try and use  SMOTE+TOMEK to see if we can improve the model accuracy."
   ]
  },
  {
   "cell_type": "code",
   "execution_count": 83,
   "metadata": {},
   "outputs": [],
   "source": [
    "sm_tomek = SMOTETomek(random_state=42)\n",
    "# Fit resample X_train and y_train \n",
    "\n",
    "X_train_oversampled2, y_train_oversampled2 = sm_tomek.fit_resample(preprocessed_train, y_train)"
   ]
  },
  {
   "cell_type": "code",
   "execution_count": 84,
   "metadata": {},
   "outputs": [
    {
     "data": {
      "text/plain": [
       "RandomForestClassifier(max_depth=20, min_samples_split=5, n_estimators=1500,\n",
       "                       random_state=42)"
      ]
     },
     "execution_count": 84,
     "metadata": {},
     "output_type": "execute_result"
    }
   ],
   "source": [
    "rf_smote_tomek = RandomForestClassifier(n_estimators = 1500, \n",
    "                                  min_samples_split=5, \n",
    "                                  max_depth=20,\n",
    "                                  random_state=42)\n",
    "\n",
    "# fitting the model to the oversampled data\n",
    "\n",
    "rf_smote_tomek.fit(X_train_oversampled2, y_train_oversampled2)\n"
   ]
  },
  {
   "cell_type": "code",
   "execution_count": 85,
   "metadata": {},
   "outputs": [
    {
     "name": "stdout",
     "output_type": "stream",
     "text": [
      "The training accuracy score is : 0.942\n",
      "The validation accuracy score is : 0.748\n",
      "-------------------------------------------------\n",
      "The training balanced accuracy score is : 0.941\n",
      "The validation accuracy score is : 0.687\n",
      ".................................................\n",
      "                         precision    recall  f1-score   support\n",
      "\n",
      "             functional       0.82      0.76      0.79      9677\n",
      "functional needs repair       0.32      0.53      0.40      1295\n",
      "         non functional       0.79      0.76      0.78      6846\n",
      "\n",
      "               accuracy                           0.75     17818\n",
      "              macro avg       0.64      0.69      0.66     17818\n",
      "           weighted avg       0.77      0.75      0.76     17818\n",
      "\n",
      "--------------------------------------------------\n",
      "<sklearn.metrics._plot.confusion_matrix.ConfusionMatrixDisplay object at 0x00000137E4C30430>\n"
     ]
    },
    {
     "data": {
      "image/png": "[encoded data removed]",
      "text/plain": [
       "<Figure size 432x288 with 2 Axes>"
      ]
     },
     "metadata": {
      "needs_background": "light"
     },
     "output_type": "display_data"
    }
   ],
   "source": [
    "model_eval(rf_smote_tomek, X_train_oversampled2, y_train_oversampled2,preprocessed_test, y_test)"
   ]
  },
  {
   "cell_type": "markdown",
   "metadata": {},
   "source": [
    "This model is overfitting and we will therefore use the smote tuned random forest model as the final model."
   ]
  },
  {
   "cell_type": "markdown",
   "metadata": {},
   "source": [
    "# 5. Evaluation"
   ]
  },
  {
   "cell_type": "markdown",
   "metadata": {},
   "source": []
  }
 ],
 "metadata": {
  "kernelspec": {
   "display_name": "Python 3.8.5 ('learn-env')",
   "language": "python",
   "name": "python3"
  },
  "language_info": {
   "codemirror_mode": {
    "name": "ipython",
    "version": 3
   },
   "file_extension": ".py",
   "mimetype": "text/x-python",
   "name": "python",
   "nbconvert_exporter": "python",
   "pygments_lexer": "ipython3",
   "version": "3.8.5"
  },
  "orig_nbformat": 4,
  "vscode": {
   "interpreter": {
    "hash": "ff2c9642772d15e6cae971eb0450df2b266e0ab06a6c8694c2621a47dc9f7ac7"
   }
  }
 },
 "nbformat": 4,
 "nbformat_minor": 2
}
